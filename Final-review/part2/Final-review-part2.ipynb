{
 "cells": [
  {
   "cell_type": "markdown",
   "metadata": {},
   "source": [
    "# ECE 325 - Final Term Review  - part 2 (Fall20)"
   ]
  },
  {
   "cell_type": "markdown",
   "metadata": {},
   "source": [
    "## Data Structures"
   ]
  },
  {
   "cell_type": "markdown",
   "metadata": {},
   "source": [
    "- Linear data structures (Single level)\n",
    "    - Array\n",
    "    - List\n",
    "    - Vector\n",
    "    - Set\n",
    "    - Queue\n",
    "    - Stack\n",
    "    - ...\n",
    "    \n",
    "- Non-linear structures (Multiple levels)\n",
    "    - Tree (Binary search tree, AVL tree, Red-black tree, B+ tree, K-d tree, Abstract Syntax Tree,...)\n",
    "    - Graph"
   ]
  },
  {
   "cell_type": "markdown",
   "metadata": {},
   "source": [
    "### Binary Tree"
   ]
  },
  {
   "cell_type": "markdown",
   "metadata": {},
   "source": [
    "A Binary Tree is a hierarchical data structure where each node has at most two children. Each node has a left and right child.\n",
    "\n",
    "There are two main traversal approaches:\n",
    "\n",
    "- Depth First Traversal : with three variations\n",
    "    - **Inorder** (left, root, right)\n",
    "    - **Preorder** (root, left, right)\n",
    "    - **Postorder** (left, right, root)\n",
    "- Breadth First Traversal (Level Order Traversal)"
   ]
  },
  {
   "cell_type": "markdown",
   "metadata": {},
   "source": [
    "**Binary Tree Implementation**\n",
    "\n",
    "<img src=\"images/binary_tree.png\" width=\"600\"/>"
   ]
  },
  {
   "cell_type": "code",
   "execution_count": 1,
   "metadata": {
    "code_folding": [
     1
    ]
   },
   "outputs": [
    {
     "data": {
      "text/plain": [
       "null"
      ]
     },
     "execution_count": 1,
     "metadata": {},
     "output_type": "execute_result"
    }
   ],
   "source": [
    "public class BinaryTree \n",
    "{\n",
    "    static int leftChild(int i) {\n",
    "    return i*2+1;\n",
    "  }\n",
    "\n",
    "  static int rightChild(int i) {\n",
    "    return i*2+2;\n",
    "  }\n",
    "\n",
    "  static void inOrderDFT(int[] tree, int root) {\n",
    "    int size = tree.length;\n",
    "    if (root<size) { \n",
    "      int left = leftChild(root);\n",
    "      int right = rightChild(root);\n",
    "      inOrderDFT(tree, left);\n",
    "      System.out.print(tree[root]+\" \");\n",
    "      inOrderDFT(tree, right);\n",
    "    }\n",
    "  }\n",
    "\n",
    "  static void preOrderDFT(int[] tree, int root) {\n",
    "    int size = tree.length;\n",
    "    if (root<size) { \n",
    "      int left = leftChild(root);\n",
    "      int right = rightChild(root);\n",
    "      System.out.print(tree[root]+\" \");\n",
    "      preOrderDFT(tree, left);\n",
    "      preOrderDFT(tree, right);\n",
    "    }\n",
    "  }\n",
    "\n",
    "  static void postOrderDFT(int[] tree, int root) {\n",
    "    int size = tree.length;\n",
    "    if (root<size) { \n",
    "      int left = leftChild(root);\n",
    "      int right = rightChild(root);\n",
    "      postOrderDFT(tree, left);\n",
    "      postOrderDFT(tree, right);\n",
    "      System.out.print(tree[root]+\" \");\n",
    "    }\n",
    "  }\n",
    "\n",
    "}"
   ]
  },
  {
   "cell_type": "code",
   "execution_count": 2,
   "metadata": {
    "code_folding": []
   },
   "outputs": [
    {
     "name": "stdout",
     "output_type": "stream",
     "text": [
      "---- inorder depth first traversal ----\n",
      "7 24 5 4 15 13 10 8 3 \n",
      "---- preorder depth first traversal ----\n",
      "13 4 24 7 5 15 8 10 3 \n",
      "---- postorder depth first traversal ----\n",
      "7 5 24 15 4 10 3 8 13 "
     ]
    },
    {
     "data": {
      "text/plain": [
       "null"
      ]
     },
     "execution_count": 2,
     "metadata": {},
     "output_type": "execute_result"
    }
   ],
   "source": [
    "int[] binTree = {13,4,8,24,15,10,3,7,5};\n",
    "System.out.println(\"---- inorder depth first traversal ----\");\n",
    "BinaryTree.inOrderDFT(binTree, 0);\n",
    "System.out.println(\"\\n---- preorder depth first traversal ----\");\n",
    "BinaryTree.preOrderDFT(binTree, 0);\n",
    "System.out.println(\"\\n---- postorder depth first traversal ----\");\n",
    "BinaryTree.postOrderDFT(binTree, 0);"
   ]
  },
  {
   "cell_type": "markdown",
   "metadata": {},
   "source": [
    "### Binary Search Tree"
   ]
  },
  {
   "cell_type": "markdown",
   "metadata": {},
   "source": [
    "BST is a binary tree where the nodes are keeping in sorted order, allowing search, insertion, and deletion of values in _O(log n)_ average time.\n",
    "\n",
    "Insert: `9,3,15,10,1,5,18,6,12`\n",
    "\n",
    "<img src=\"images/bst1.png\" width=\"600\"/>\n",
    "\n",
    "- Height of the tree: **3**\n",
    "- Search complexity: _O(log n)_ ≈ **3**"
   ]
  },
  {
   "cell_type": "markdown",
   "metadata": {},
   "source": [
    "Insert: `1, 3, 5, 6, 9, 10, 12, 15, 18`\n",
    "\n",
    "<img src=\"images/bst2.png\" width=\"400\"/>\n",
    "\n",
    "- Height of the tree: **8**\n",
    "- Search complexity: _O(n)_ ≈ **9**"
   ]
  },
  {
   "cell_type": "markdown",
   "metadata": {},
   "source": [
    "### Red-Black Tree"
   ]
  },
  {
   "cell_type": "markdown",
   "metadata": {},
   "source": [
    "Red-Black Tree is a self-balancing Binary Search Tree (BST) where every node follows following rules:\n",
    "\n",
    "1. Every node has a color either <b style=\"color:red\">red</b> or <b style=\"color:black\">black</b>.\n",
    "2. Root and leaves ( <b style=\"color:black\">black dot</b>: NULL) of tree are <b style=\"color:black\">black</b>.\n",
    "3. There are no two adjacent <b style=\"color:red\">red</b> nodes (A red node cannot have a red parent or red child).\n",
    "4. Every path from a node (including root) to any of its descendant NULL node has the same number of <b style=\"color:black\">black</b> nodes.\n",
    "\n",
    "<img src=\"images/RedBlackTree.png\" width=\"400\"/>"
   ]
  },
  {
   "cell_type": "markdown",
   "metadata": {},
   "source": [
    "### Skip list\n",
    "\n",
    "Skip List is a data structure that is used for storing a _sorted list_ of items with a help of hierarchy of linked lists that connect increasingly sparse subsequences of the items.\n",
    "\n",
    "The Skip List data structure skips over many of the items of the full list in one step. A Skip List is built up of layers. The lowest layer (i.e. bottom layer) is an ordinary ordered linked list. The higher layers are like express lane where the nodes are skipped.\n",
    "\n",
    "\n",
    "<img src=\"images/SkipList.png\" width=\"600\"/>"
   ]
  },
  {
   "cell_type": "markdown",
   "metadata": {},
   "source": [
    "## Iterators"
   ]
  },
  {
   "cell_type": "markdown",
   "metadata": {},
   "source": [
    "An **_Iterator_** is the mechanism that Java provides for stepping through all elements in any collection.\n",
    "\n",
    "The Java API has a generic interface called `Iterator<T>` that specifies what methods are required of an iterator\n",
    "\n",
    "- `public boolean hasNext()`: returns true if there are more elements in the iteration\n",
    "\n",
    "- `public T next()`: returns the next element in the iteration\n",
    "\n",
    "- `public void remove()`: removes the last element returned by the iterator (optional operation)\n"
   ]
  },
  {
   "cell_type": "code",
   "execution_count": 3,
   "metadata": {},
   "outputs": [
    {
     "data": {
      "text/plain": [
       "null"
      ]
     },
     "execution_count": 3,
     "metadata": {},
     "output_type": "execute_result"
    }
   ],
   "source": [
    "import java.util.Iterator;\n",
    "import java.util.NoSuchElementException;\n",
    "import java.util.Random;\n",
    "\n",
    "class MyFakeArrayIterator implements Iterator<Integer> {\n",
    "  private int current;\n",
    "  private int size;\n",
    "  private Random random = new Random();\n",
    "\n",
    "  public MyFakeArrayIterator(int n) {\n",
    "    size = n;\n",
    "    current = 0;\n",
    "  }\n",
    "\n",
    "  public boolean hasNext() {\n",
    "    return current < size;\n",
    "  }\n",
    "\n",
    "  public Integer next() {\n",
    "    if (!this.hasNext())\n",
    "        throw new NoSuchElementException();\n",
    "    ++current;\n",
    "    return random.nextInt();\n",
    "  }\n",
    "}"
   ]
  },
  {
   "cell_type": "markdown",
   "metadata": {},
   "source": [
    "Java provides the `Iterable<T>` interface to provide a method to return an iterator"
   ]
  },
  {
   "cell_type": "code",
   "execution_count": 4,
   "metadata": {},
   "outputs": [
    {
     "data": {
      "text/plain": [
       "null"
      ]
     },
     "execution_count": 4,
     "metadata": {},
     "output_type": "execute_result"
    }
   ],
   "source": [
    "class MyFakeArray implements Iterable<Integer>\n",
    "{\n",
    "  private int size;\n",
    "  \n",
    "  public MyFakeArray(int n) { size = n; }\n",
    "  \n",
    "  public MyFakeArrayIterator iterator() {\n",
    "    return new MyFakeArrayIterator(size);\n",
    "  }\n",
    "}"
   ]
  },
  {
   "cell_type": "code",
   "execution_count": 5,
   "metadata": {},
   "outputs": [
    {
     "name": "stdout",
     "output_type": "stream",
     "text": [
      "-2118651647\n",
      "36842882\n",
      "-1123508748\n",
      "1622004813\n",
      "-2048500115\n",
      "-1402187734\n",
      "802416553\n",
      "1908865309\n",
      "-150184604\n",
      "-94062794\n"
     ]
    },
    {
     "data": {
      "text/plain": [
       "null"
      ]
     },
     "execution_count": 5,
     "metadata": {},
     "output_type": "execute_result"
    }
   ],
   "source": [
    "MyFakeArray array = new MyFakeArray(10);\n",
    "\n",
    "for (Integer x : array) {\n",
    "  System.out.println(x);\n",
    "}"
   ]
  },
  {
   "cell_type": "markdown",
   "metadata": {},
   "source": [
    "## Java Collections"
   ]
  },
  {
   "cell_type": "markdown",
   "metadata": {},
   "source": [
    "Java Collections Framework \n",
    "- Defines a collection as “an object that represents a group of objects”.\n",
    "- Defines a collections framework as “a unified architecture for representing and manipulating collections, allowing them to be manipulated independent of the details of their representation.”\n",
    "\n",
    "<img src=\"images/java_collections.png\" width=\"700\"/>"
   ]
  },
  {
   "cell_type": "markdown",
   "metadata": {},
   "source": [
    "### `Collection<T>`\n",
    "\n",
    "Top of the class hierarchy is the Collection interface.\n",
    "\n",
    "- `add(Object o)`: Adds the specified object to the collection.\n",
    "- `remove(Object o)`: Removes the specified object from the collection.\n",
    "- `clear()`: Removes all elements from the collection.\n",
    "- `size()`: Returns an integer that indicates how many elements are currently in the collection.\n",
    "- `iterator()`: Returns an object that can be used to retrieve references to the elements in the collection.\n"
   ]
  },
  {
   "cell_type": "markdown",
   "metadata": {},
   "source": [
    "### `List<T>`\n",
    "\n",
    "- `get(int index)`: Returns the object stored at the specified index within the invoking collection.\n",
    "- `indexOf(Object o)`: Returns the index of the first instance of obj in the invoking list. If o is not an element of the list, -1 is returned.\n",
    "- `set(int index, Object o)`: Assigns obj to the location specified by index within the invoking list."
   ]
  },
  {
   "cell_type": "markdown",
   "metadata": {},
   "source": [
    "### `Set<T>`\n",
    "\n",
    "- `contains(Object o)`: Returns true if a specified object is an element within the collection.\n",
    "- `isEmpty()`: Returns true if the collection has no elements."
   ]
  },
  {
   "cell_type": "markdown",
   "metadata": {},
   "source": [
    "### `Queue<T>`\n",
    "\n",
    "- `element()`: Returns a reference to the head element without removing it, throwing an exception if the queue is empty.\n",
    "- `peek()`: Returns a reference to the head element without removing it, returning null if the queue is empty.\n",
    "- `remove()`:Retrieves a reference to the head element and removes it from the queue, throwing an exception if the queue is empty.\n",
    "- `poll()`: Retrieves a reference to the head element and removes it from the queue, returning null if the queue is empty.\n"
   ]
  },
  {
   "cell_type": "markdown",
   "metadata": {},
   "source": [
    "### `Map<K,V>`\n",
    "\n",
    "- `containsKey(Object k)`: Returns true if the invoking map contains k as a key. Otherwise, returns false.\n",
    "- `get(Object k)`: Returns the value associated with the key k.\n",
    "- `put(Object k, Object v)`: Puts an entry in the invoking map, overwriting any previous value associated with the key. Returns null if the key did not already exist. Otherwise, the previous value linked to the key is returned.\n",
    "- `values()`: Returns a collection containing the values in the map. This method provides a collection-view of the values in the map.\n"
   ]
  },
  {
   "cell_type": "code",
   "execution_count": 6,
   "metadata": {},
   "outputs": [
    {
     "data": {
      "text/plain": [
       "null"
      ]
     },
     "execution_count": 6,
     "metadata": {},
     "output_type": "execute_result"
    }
   ],
   "source": [
    "import java.util.*;\n",
    "\n",
    "public class TestAlgorithms\n",
    "{\n",
    "  public static <T> void print(Collection<T> collection) {\n",
    "    int size = collection.size();\n",
    "    Iterator<T> iter = collection.iterator();\n",
    "    while (iter.hasNext()) {\n",
    "      String sep = (--size > 0) ? \", \" : \"\\n\";\n",
    "      System.out.print(iter.next() + sep);\n",
    "    }\n",
    "  }\n",
    "\n",
    "  public static <T extends Comparable<T>> T minimum(Collection<T> collection) {\n",
    "    int pos = 0;\n",
    "    if (collection == null)\n",
    "      return null;\n",
    "    T min = null;\n",
    "    Iterator<T> iter = collection.iterator();\n",
    "    while (iter.hasNext()) {\n",
    "      Comparable<T> val = iter.next();\n",
    "      if (min == null)\n",
    "        min = (T) val;\n",
    "      else\n",
    "        if (val.compareTo(min) < 0)\n",
    "          min = (T) val;\n",
    "    }\n",
    "    return (T) min;\n",
    "  }\n",
    "}"
   ]
  },
  {
   "cell_type": "markdown",
   "metadata": {},
   "source": [
    "### Collections Algorithms"
   ]
  },
  {
   "cell_type": "code",
   "execution_count": 7,
   "metadata": {},
   "outputs": [
    {
     "name": "stdout",
     "output_type": "stream",
     "text": [
      "85, 88, 47, 13, 54, 4, 34, 6, 78, 48, 69, 73, 17, 63, 62, 34, 92, 62\n",
      "List Minimum value: 4\n",
      "\n",
      "4, 6, 13, 17, 34, 47, 48, 54, 62, 63, 69, 73, 78, 85, 88, 92\n",
      "TreeSet Minimum value: 4\n",
      "List Minimum value: 4\n",
      "\n",
      "Binary Search\n",
      "Position of element 73: -9\n",
      "\n",
      "Sort\n",
      "4, 6, 13, 17, 34, 34, 47, 48, 54, 62, 62, 63, 69, 73, 78, 85, 88, 92\n",
      "Position of element 73: 13\n",
      "\n",
      "Rotate 5\n",
      "73, 78, 85, 88, 92, 4, 6, 13, 17, 34, 34, 47, 48, 54, 62, 62, 63, 69\n",
      "\n",
      "Shuffle\n",
      "62, 73, 78, 48, 6, 54, 17, 85, 34, 92, 63, 69, 62, 13, 34, 47, 4, 88\n"
     ]
    },
    {
     "data": {
      "text/plain": [
       "null"
      ]
     },
     "execution_count": 7,
     "metadata": {},
     "output_type": "execute_result"
    }
   ],
   "source": [
    "import java.util.Random;\n",
    "import java.util.*;\n",
    "\n",
    "Random numGenerator = new Random();\n",
    "numGenerator.setSeed(1); \n",
    "\n",
    "// List<Integer> list = new ArrayList<Integer>();\n",
    "List<Integer> list = new LinkedList<>();\n",
    "// List<Integer> list = new Vector<>();\n",
    "Collection<Integer> list2 = new TreeSet();\n",
    "\n",
    "   \n",
    "for (int k=0; k < 18; ++k) {\n",
    "  Integer val = numGenerator.nextInt(100);\n",
    "  list.add(val);\n",
    "  list2.add(val);\n",
    "}\n",
    "\n",
    "TestAlgorithms.print(list);\n",
    "Object res = TestAlgorithms.minimum(list);\n",
    "System.out.println(\"List Minimum value: \" + res + \"\\n\");\n",
    "\n",
    "TestAlgorithms.print(list2);\n",
    "Object res2 = TestAlgorithms.minimum(list);\n",
    "System.out.println(\"TreeSet Minimum value: \" + res);\n",
    "\n",
    "\n",
    "Integer min = Collections.min(list);\n",
    "System.out.println(\"List Minimum value: \" + min);\n",
    " \n",
    "System.out.println(\"\\nBinary Search\");\n",
    "Integer value = list.get(11);\n",
    "// Integer value = 73; \n",
    "int pos = Collections.binarySearch(list, value);\n",
    "System.out.println(\"Position of element \"+value+\": \" + pos);\n",
    "\n",
    "System.out.println(\"\\nSort\");\n",
    "Collections.sort(list);\n",
    "TestAlgorithms.print(list);\n",
    "pos = Collections.binarySearch(list, value);\n",
    "System.out.println(\"Position of element \"+value+\": \" + pos);\n",
    "\n",
    "System.out.println(\"\\nRotate 5\");\n",
    "Collections.rotate(list,5);\n",
    "TestAlgorithms.print(list);\n",
    "\n",
    "System.out.println(\"\\nShuffle\");\n",
    "Collections.shuffle(list);\n",
    "TestAlgorithms.print(list);\n"
   ]
  },
  {
   "cell_type": "markdown",
   "metadata": {},
   "source": [
    "## Association, Aggregation and Composition"
   ]
  },
  {
   "cell_type": "markdown",
   "metadata": {},
   "source": [
    "Super classes are often said to be _fragile_, because any change can ripple out and require changes in many other places in the application's code.\n",
    "\n",
    "Changes to the superclass's interface, can ripple out and break any code that uses the superclass or any of its subclasses. A change in the superclass interface can break the code that defines any of its subclasses."
   ]
  },
  {
   "cell_type": "markdown",
   "metadata": {},
   "source": [
    "### Association\n",
    "\n",
    "An **association** defines a relationship between classes that allows one object instance to cause another to perform an action on its behalf. It refers to how objects are related to each other and how they are using each other's functionality.\n",
    "\n",
    "![](http://www.plantuml.com/plantuml/png/SoWkIImgAStDuKhEIImkLd1EBEBYSYdAB4ijKj05yHIi5590t685Eow7rBmKe580)\n",
    "\n",
    "This relationship is structural, because it specifies that objects of one kind are connected to objects of another and does not represent behaviour.\n",
    "\n",
    "An association between two objects can reference more than one object of the same type."
   ]
  },
  {
   "cell_type": "markdown",
   "metadata": {},
   "source": [
    "**Association end multiplicity** defines the number of entity type instances that can be at one end of an association.\n",
    "\n",
    "- **one (1)**: Indicates that exactly one entity type instance exists at the association end.\n",
    "- **zero or one (0..1)**: Indicates that zero or one entity type instances exist at the association end.\n",
    "- **many (*)**: Indicates that zero, one, or more entity type instances exist at the association end.\n",
    "\n",
    "<img src=\"images/association.png\" width=\"500\"/>"
   ]
  },
  {
   "cell_type": "markdown",
   "metadata": {},
   "source": [
    "There are two types of association: \n",
    "- aggregation\n",
    "- composition \n",
    "\n",
    "Aggregation is a special form of association and  composition is a special form of aggregation.\n",
    "\n",
    "<img src=\"images/association2.png\" width=\"400\"/>"
   ]
  },
  {
   "cell_type": "markdown",
   "metadata": {},
   "source": [
    "### Aggregation\n",
    "\n",
    "**Aggregation** is a weak association. An association is said to be aggregation if both Objects can exist independently. \n",
    "\n",
    "- it is binary association\n",
    "- it is asymmetric - only one end of association can be an aggregation\n",
    "- it is transitive - aggregation links should form a directed, acyclic graph, so that no composite instance could be indirect part of itself represents a **HAS-A** relationship.\n",
    "\n",
    "![](http://www.plantuml.com/plantuml/png/SoWkIImgAStDuNBDBSZ9hqnDLT3LpLTmIIq02kUcvfLmEQJcfG3b0G00)"
   ]
  },
  {
   "cell_type": "markdown",
   "metadata": {},
   "source": [
    "### Composition\n",
    "\n",
    "The **composition** is the strong type of association. An association is said to composition if an Object owns another object and another object cannot exist without the owner object.\n",
    "- it is binary association\n",
    "- it is asymmetric - only one end of association can be a composition\n",
    "- it is transitive - aggregation links should form a directed, acyclic graph, so that no composite instance could be indirect part of itself composition is a **PART-OF** relationship\n",
    "\n",
    "![](http://www.plantuml.com/plantuml/png/SoWkIImgAStDuVB8BorELL0oL5BGqjMrKmZApy_bSaZDIm7A0G00)\n",
    "\n",
    "In a composition relationship, the front-end class holds a reference in one of its instance variables to a back-end class. (Room is **part-of** House)\n"
   ]
  },
  {
   "cell_type": "markdown",
   "metadata": {},
   "source": [
    "### Code reuse\n",
    "\n",
    "- With **inheritance**, a subclass automatically inherits an implementation of any non-private superclass method that it doesn't override.\n",
    "\n",
    "- With **association**, the front-end class must explicitly invoke a corresponding method in the back-end class from its own implementation of the method.\n"
   ]
  },
  {
   "cell_type": "code",
   "execution_count": 8,
   "metadata": {},
   "outputs": [
    {
     "data": {
      "text/plain": [
       "null"
      ]
     },
     "execution_count": 8,
     "metadata": {},
     "output_type": "execute_result"
    }
   ],
   "source": [
    "class Employee\n",
    "{\n",
    "  private static int counter = 0;\n",
    "  private final int id;\n",
    "  private String name;\n",
    "\n",
    "  Employee(String name) {\n",
    "    this.name = name;\n",
    "    id = ++counter;\n",
    "  }\n",
    "\n",
    "  public int getId() {\n",
    "    return id;\n",
    "  }\n",
    "\n",
    "  public String getName() {\n",
    "    return name;\n",
    "  }\n",
    "}"
   ]
  },
  {
   "cell_type": "code",
   "execution_count": 9,
   "metadata": {},
   "outputs": [
    {
     "data": {
      "text/plain": [
       "null"
      ]
     },
     "execution_count": 9,
     "metadata": {},
     "output_type": "execute_result"
    }
   ],
   "source": [
    "class Manager {\n",
    "  private Employee employee;\n",
    "\n",
    "  Manager(String name) {\n",
    "    employee = new Employee(name); \n",
    "  }\n",
    "  \n",
    "  public int getId() { \n",
    "    return employee.getId(); \n",
    "  }\n",
    "\n",
    "  public String getName() {\n",
    "    return employee.getName();\n",
    "  }\n",
    "}"
   ]
  },
  {
   "cell_type": "code",
   "execution_count": 10,
   "metadata": {},
   "outputs": [
    {
     "name": "stdout",
     "output_type": "stream",
     "text": [
      "John id:1\n"
     ]
    },
    {
     "data": {
      "text/plain": [
       "null"
      ]
     },
     "execution_count": 10,
     "metadata": {},
     "output_type": "execute_result"
    }
   ],
   "source": [
    "Manager mng = new Manager(\"John\");\n",
    "int mngId = mng.getId();\n",
    "System.out.println(mng.getName() + \" id:\" + mngId);"
   ]
  },
  {
   "cell_type": "markdown",
   "metadata": {},
   "source": [
    "## Design Process"
   ]
  },
  {
   "cell_type": "markdown",
   "metadata": {},
   "source": [
    "Design involves discovery, invention, and intuitive leaps from one abstraction level to another.\n",
    "Design work is iterative, and it must be driven by feedback from all involved parties.\n",
    "\n",
    "<img src=\"images/design_framework.png\" width=\"500\"/>"
   ]
  },
  {
   "cell_type": "markdown",
   "metadata": {},
   "source": [
    "A **Software Design Process**, (Software Development Life Cycle - SDLC) is the process of dividing software development work into distinct phases to improve design, product management, and project management."
   ]
  },
  {
   "cell_type": "markdown",
   "metadata": {},
   "source": [
    "### Waterfall\n",
    "\n",
    "<img src=\"images/water_fall.png\" width=\"600\"/>\n",
    "\n",
    "- **Pros**\n",
    "    - Can work well for projects that are very well understood but complex\n",
    "    - Tackles all planning upfront\n",
    "    - The ideal of no midstream changes equates to an efficient software development process\n",
    "    - Supports inexperienced teams\n",
    "    - Reviews at each stage determine if the product is ready to advance\n",
    "\n",
    "- **Cons**\n",
    "    - Difficult to specify all requirements of a stage completely and correctly upfront\n",
    "        - requires a lot of planning up front (not always easy)\n",
    "        - assumes requirements will be clear and well-understood\n",
    "    - Rigid, linear; not adaptable to change in the product\n",
    "    - Costly to \"swim upstream\" back to a previous phase\n",
    "    - No sense of progress until the very end. Solutions are inflexible\n",
    "    - Integration occurs at the very end\n",
    "    - Delivered product may not match customer needs\n",
    "    - Inertia means change is costly"
   ]
  },
  {
   "cell_type": "markdown",
   "metadata": {},
   "source": [
    "### Spiral \n",
    "\n",
    "<img src=\"images/spiral.png\" width=\"600\"/>\n",
    "\n",
    "- **Pros**\n",
    "    - Especially appropriate at the beginning of the project, when the requirements are still not completely clear\n",
    "    - Provides early indication of unforeseen problems\n",
    "    - Accommodates change\n",
    "    - As costs increase, risks decrease!\n",
    "    - Always addresses the biggest risk first\n",
    "\n",
    "- **Cons**\n",
    "    - A lot of planning and management\n",
    "    - Requires customer and contract flexibility\n",
    "    - Developers must be able to assess risk\n",
    "    - Must address most important issues\n"
   ]
  },
  {
   "cell_type": "markdown",
   "metadata": {},
   "source": [
    "### Agile development \n",
    "\n",
    "Comprises various approaches to software development under which requirements and solutions evolve through the collaborative effort of self-organizing and cross-functional teams (developers, customers, and end users).\n",
    "\n",
    "Promotes:\n",
    "- adaptive planning (rapid and flexible response to change) \n",
    "- evolutionary development (incremental development)\n",
    "- early delivery (frequent \"releases\" in short development cycles)\n",
    "- continual improvement (test everything, test constantly).\n",
    "\n",
    "In *Agile software development*, users can frequently validate new pieces of software and take decisions that could lead to a re-planning. Iterative product development allows the software to evolve in response to changes in the business environment or market requirements.\n"
   ]
  },
  {
   "cell_type": "markdown",
   "metadata": {},
   "source": [
    "### Test-driven Development\n",
    "\n",
    "**TDD** is a software development process that relies on the *repetition* of a very short development cycle.\n",
    "\n",
    "Requirements are turned into very specific test cases, then the software is improved so that the tests pass.\n",
    "\n",
    "Each cycle is composed of:\n",
    "- Add a test (based on use cases and user stories)\n",
    "- Run all test and see in the test fails\n",
    "- Write the code (enough to pass the test)\n",
    "- Run tests\n",
    "- Refactor code (move, remove, rename, modify logic, , etc.)"
   ]
  },
  {
   "cell_type": "markdown",
   "metadata": {},
   "source": [
    "### Modularization\n",
    "\n",
    "- Modularization is a technique to divide a software system into multiple discrete and independent modules, which are expected to be capable of carrying out task(s) independently.\n",
    "\n",
    "- Modules may work as basic constructs for the entire software. Designers tend to design modules such that they can be executed and/or compiled separately and independently.\n",
    "\n",
    "Advantage of modularization:\n",
    "- Smaller components are easier to maintain\n",
    "- Program can be divided based on functional aspects\n",
    "- Desired level of abstraction can be brought in the program\n",
    "- Components with high cohesion can be re-used again\n",
    "- Concurrent execution can be made possible\n",
    "- Desired from security aspect\n",
    "\n",
    "Classes that are highly dependent on one another are considered **highly coupled**.\n",
    "\n",
    "To promote a high level of maintainability, keep the coupling level of your classes as ***low*** as possible."
   ]
  },
  {
   "cell_type": "markdown",
   "metadata": {},
   "source": [
    "## Refactoring"
   ]
  },
  {
   "cell_type": "markdown",
   "metadata": {},
   "source": [
    "Refactoring is a technique for restructuring an existing body of code, altering its internal structure without changing its external behavior. It's allows clean up code, reducing the chances of introducing bugs. \n",
    "\n",
    "When you refactor, you are improving the design (nonfunctional attributes) of the code after it has been written."
   ]
  },
  {
   "cell_type": "code",
   "execution_count": null,
   "metadata": {
    "code_folding": [
     2,
     15
    ]
   },
   "outputs": [],
   "source": [
    "class CodeQuality {   \n",
    "\n",
    "  // Before refactoring\n",
    "  public void add(Object element) {\n",
    "    if (!readOnly) {\n",
    "      int newSize = size + 1;\n",
    "      if (newSize > elements.length) {\n",
    "        Object[] newElements = new Object[elements.length+10];\n",
    "        for(int i=0; i<size; i++)\n",
    "          newElements[i] = elements[i];\n",
    "        elements = newElements;\n",
    "      }\n",
    "      elements[size++] = element;\n",
    "    }\n",
    "  }\n",
    "    \n",
    "  // After refactoring\n",
    "  public void add(Object element) {\n",
    "    if (readOnly)\n",
    "      return;\n",
    "    if (atCapacity())\n",
    "      grow();\n",
    "    addElement(element);\n",
    "  }\n",
    "\n",
    "}\n"
   ]
  },
  {
   "cell_type": "markdown",
   "metadata": {},
   "source": [
    "Advantages of refactoring:\n",
    "- improves code readability and reduced complexity\n",
    "- improves source-code maintainability\n",
    "- create a more expressive internal architecture or object model to improve extensibility.\n",
    "\n",
    "What is **not** refactoring:\n",
    "- Adding new functionality is not refactoring\n",
    "- Debugging is not refactoring\n",
    "- Optimization is not refactoring \n",
    "- Changing code that does not compile is not refactoring\n",
    "- Massive changes is not refactoring\n",
    "- Refactoring is not change without automated tests"
   ]
  },
  {
   "cell_type": "markdown",
   "metadata": {},
   "source": [
    "### Refactoring techniques\n",
    "\n",
    "- **Composing methods**: techniques oriented to streamline methods, remove code duplication, and prepare the code for future improvements.\n",
    "    - Extract methods\n",
    "    - Inline methods\n",
    "    - Extract variable\n",
    "    - Inline temporal\n",
    "    - Replace temporal with query\n",
    "    - Split temporary variables\n",
    "    - Remove Assignments to parameters\n",
    "    - Replace methods with method objects\n",
    "    - Substitute algorithm\n",
    "\n",
    "\n",
    "- **Moving features between objects**: techniques oriented to show how to safely move functionality between classes, create new classes, and hide implementation details from public access.\n",
    "    - Move method\n",
    "    - Move field\n",
    "    - Extract class\n",
    "    - Inline class\n",
    "    - Hide delegate\n",
    "    - Remove middle man\n",
    "    - Introduce foreign method\n",
    "    - Introduce local expression\n",
    "\n",
    "\n",
    "- **Organizing data**: techniques oriented to help with data handling, replacing primitives with rich class functionality, untangling of class associations, which makes classes more portable and reusable.\n",
    "    - Change value of reference\n",
    "    - Change reference to value\n",
    "    - Duplicate observed data\n",
    "    - Self encapsulate fields\n",
    "    - Replace data value with object\n",
    "    - Replace array with Object\n",
    "    - Change unidirectional association to bidirectional\n",
    "    - Change bidirectional association to unidirectional\n",
    "    - Encapsulate field\n",
    "    - Encapsulate Collection\n",
    "    - Replace magic number with symbolic constant\n",
    "    - Replace type code with class\n",
    "    - Replace type code with subclass\n",
    "    - Replace type code with state/strategy\n",
    "    - Replace subclass with fields\n",
    "\n",
    "\n",
    "- **Simplifying conditional expressions**: techniques are oriented to simplify the conditional expressions.\n",
    "    - Consolidate conditional expressions\n",
    "    - Consolidate duplicate conditional fragments\n",
    "    - Decompose conditional\n",
    "    - Replace conditional with polymorphism\n",
    "    - Remove control flag\n",
    "    - Replace nested conditional with guard clauses\n",
    "    - Introduce null object\n",
    "    - Introduce Assertion\n",
    "\n",
    "\n",
    "- **Simplifying method calls**: techniques oriented to make method calls simpler and easier to understand, by simplifying the interfaces for interaction between classes.\n",
    "    - Add parameter\n",
    "    - Remove parameter\n",
    "    - Rename methods-\n",
    "    - Separate query from modifier\n",
    "    - Parameterize method\n",
    "    - Introduce parameter Object\n",
    "    - Preserve whole object\n",
    "    - Remove setting methods\n",
    "    - Replace parameter with explicit methods\n",
    "    - Replace parameter with method call\n",
    "    - Hide methods\n",
    "    - Replace constructor with factory method\n",
    "    - Replace error code with exception\n",
    "    - Replace exception with test\n",
    "\n",
    "\n",
    "- **Dealing with generalization**: techniques primarily associated with moving functionality along the class inheritance hierarchy, creating new classes and interfaces, and replacing inheritance with delegation and vice versa.\n",
    "    - Pull up field\n",
    "    - Pull up method\n",
    "    - Pull up constructor body\n",
    "    - Push down field\n",
    "    - Push down method\n",
    "    - Extract subclass\n",
    "    - Extract superclass\n",
    "    - Extract interface\n",
    "    - Collapse hierarchy\n",
    "    - Form template method\n",
    "    - Replace inheritance with delegation\n",
    "    - Replace delegation with inheritance\n"
   ]
  },
  {
   "cell_type": "markdown",
   "metadata": {},
   "source": [
    "## Design Principles"
   ]
  },
  {
   "cell_type": "markdown",
   "metadata": {},
   "source": [
    "Symptoms of Rotting Design\n",
    "\n",
    "- **Rigidity**: is the tendency for software to be difficult to change, even in simple ways. Every change causes a cascade of subsequent changes in dependent modules. When software behaves this way, there is a fear to allow engineers to fix non-critical problems.\n",
    "\n",
    "\n",
    "- **Fragility**: closely related to rigidity, fragility is the tendency of the software to break in many places every time it is changed. Often the breakage occurs in areas that have no conceptual relationship with the area that was changed. As the fragility becomes worse, the probability of breakage increases with time. Such software is impossible to maintain. Every fix makes it worse, introducing more problems than are solved.\n",
    "\n",
    "- **Immobility**: is the inability to reuse software from other projects or parts of the same project. It often happens that a needed module is similar to one that another engineer wrote. However, the module in question has too much baggage that it depends upon, that it is simply better to rewrite the module instead of reuse it.\n",
    "\n",
    "\n",
    "- **Viscosity**: when a change is needed, engineers usually find more than one way to make the change. Some of the ways preserve the design, others do not (i.e. hacks). When the design preserving methods are harder to employ than the hacks, then the viscosity of the design is high. It is easy to do the wrong thing, but hard to do the right thing."
   ]
  },
  {
   "cell_type": "markdown",
   "metadata": {},
   "source": [
    "### Pillars of Object Oriented Programming\n",
    "\n",
    "An Object Oriented Programming model is a programming model which is mainly organized around the concept of objects. There are 4 fundamentals ideas or pillars that an Object Oriented Programming is based on:\n",
    "\n",
    "- **Abstraction**: is a process of exposing essential feature of an entity while hiding other irrelevant detail. Abstraction reduces code complexity by generalizing instead of dealing with specific examples.\n",
    "\n",
    "\n",
    "- **Encapsulation**: refers to the idea of taking our attributes and our behaviors together and bundling them together in the same unit, in the same class. Is when you hide your classes/modules internal data and all other implementation details/mechanism from other classes/modules. It is also a way of restricting access to certain properties or component. Encapsulation is not data hiding, but Encapsulation leads to data hiding. \n",
    "\n",
    "\n",
    "- **Inheritance**: is a first form of code reuse. We can create a new class but instead of writing it from scratch, we can base it on an existing class. The new created class (subclass/derived class) automatically has everything that the class we are based on (superclass/base class) has, all its attributes, all its behaviors without us having to write any code.\n",
    "\n",
    "\n",
    "- **Polymorphism**: refers to the ability to take into different forms or stages. A subclass can define its own unique behavior and still share the same functionalities or behavior of its base class. A base class cannot have the behavior of its subclass. Polymorphism is the ability of an object to change behavior on runtime."
   ]
  },
  {
   "cell_type": "markdown",
   "metadata": {},
   "source": [
    "### S.O.L.I.D.\n",
    "\n",
    "SOLID is a mnemonic acronym for five design principles intended to make software designs more understandable, flexible and maintainable. \n",
    "\n",
    "- **S**ingle responsibility principle ( _SRP_ )\n",
    "    - A class should have one and only one reason to change, meaning that a class should have only one job.\n",
    "\n",
    "\n",
    "- **O**pen-closed principle ( _OCP_ )\n",
    "    - A module should be open for extension but closed for modification.\n",
    "\n",
    "\n",
    "- **L**iskov substitution principle ( _LSP_ )\n",
    "    - Subclasses should be substitutable for their base classes.\n",
    "\n",
    "\n",
    "- **I**nterface segregation principle ( _ISP_ )\n",
    "    - Many client specific interfaces are better than one general purpose interface.\n",
    "\n",
    "\n",
    "- **D**ependency inversion principle ( _DIP_ )\n",
    "    - Abstractions should not depend upon details. Details should depend upon abstractions."
   ]
  },
  {
   "cell_type": "markdown",
   "metadata": {},
   "source": [
    "## Design Patterns"
   ]
  },
  {
   "cell_type": "markdown",
   "metadata": {},
   "source": [
    "A software design pattern is a general, reusable solution to a commonly occurring problem within a given context in software design.\n",
    "\n",
    "Design patterns are formalized best practices that the programmer can use to solve common problems when designing an application or system.\n",
    "\n",
    "- Design Patterns are defined and provides industry standard approach to solve a recurring problem. \n",
    "- Using design patterns promotes reusability that leads to more robust and highly maintainable code. \n",
    "- Helps to understand and debug the code. "
   ]
  },
  {
   "cell_type": "markdown",
   "metadata": {},
   "source": [
    "### Types of Design Patterns\n",
    "\n",
    "Java Design Patterns are divided into three categories: \n",
    "- **Creational**: is concerned with the way of creating objects. \n",
    "    - Factory Method Pattern\n",
    "    - Abstract Factory Pattern\n",
    "    - Singleton Pattern\n",
    "    - Prototype Pattern\n",
    "    - Builder Pattern\n",
    "    - Object Pool Pattern\n",
    "\n",
    "\n",
    "- **Structural**: is concerned with how classes and objects can be composed, to form larger structures.\n",
    "    - Adapter Pattern\n",
    "    - Bridge Pattern\n",
    "    - Composite Pattern\n",
    "    - Decorator Pattern\n",
    "    - Facade Pattern\n",
    "    - Flyweight Pattern\n",
    "    - Proxy Pattern\n",
    "\n",
    "\n",
    "- **Behavioral**: is concerned with the interaction and responsibility of objects.\n",
    "    - Chain of Responsibility Pattern\n",
    "    - Command Pattern\n",
    "    - Interpreter Pattern\n",
    "    - Iterator Pattern\n",
    "    - Mediator Pattern\n",
    "    - Memento Pattern\n",
    "    - Observer Pattern\n",
    "    - State Pattern\n",
    "    - Strategy Pattern\n",
    "    - Template Pattern\n",
    "    - Visitor Pattern\n",
    "    - Null Object\n",
    "\n",
    "\n",
    "- **Miscellaneous Design Patterns**:  popular design patterns.\n",
    "    - Data Access Object Design Pattern\n",
    "    - Dependency Injection Pattern\n",
    "    - Model-View-Controller Pattern\n",
    "    - Model-View-Presenter Pattern\n",
    "    - Business Delegate Pattern\n",
    "    - Front Controller Pattern\n"
   ]
  },
  {
   "cell_type": "markdown",
   "metadata": {},
   "source": [
    "## Functional Programming"
   ]
  },
  {
   "cell_type": "markdown",
   "metadata": {},
   "source": [
    "- Functional programming languages are designed on the concept of _mathematical functions_ that use conditional expressions and _recursion_ to perform computation.\n",
    "\n",
    "\n",
    "- Supports _higher-order_ functions and _lazy evaluation_ features.\n",
    "\n",
    "\n",
    "- Does not support flow Controls like loop statements and conditional statements like If-Else and Switch Statements. They directly use the functions and functional calls.\n"
   ]
  },
  {
   "cell_type": "markdown",
   "metadata": {},
   "source": [
    "Pros:\n",
    "- Pure functions are easier to reason about. No side effects.\n",
    "- Testing is easier. For the same input you expect the same result.\n",
    "- Debugging is easier.\n",
    "- Programs are written at a higher level, and are therefore easier to comprehend.\n",
    "- Function signatures are more meaningful.\n",
    "- Parallel/concurrent programming is easier.\n"
   ]
  },
  {
   "cell_type": "code",
   "execution_count": 11,
   "metadata": {},
   "outputs": [
    {
     "data": {
      "text/plain": [
       "null"
      ]
     },
     "execution_count": 11,
     "metadata": {},
     "output_type": "execute_result"
    }
   ],
   "source": [
    "import java.util.*;\n",
    "\n",
    "interface Operation {\n",
    "  int apply(int a, int b);\n",
    "  int getEmpty();\n",
    "}\n",
    "\n",
    "\n",
    "class FuncProg {\n",
    "  public static int for_each(List<Integer> list, Operation oper) {\n",
    "    int result = oper.getEmpty();\n",
    "    for(Integer value : list) {\n",
    "      result = oper.apply(result, value);\n",
    "    }\n",
    "    return result;\n",
    "  }\n",
    "}"
   ]
  },
  {
   "cell_type": "code",
   "execution_count": 12,
   "metadata": {},
   "outputs": [
    {
     "data": {
      "text/plain": [
       "null"
      ]
     },
     "execution_count": 12,
     "metadata": {},
     "output_type": "execute_result"
    }
   ],
   "source": [
    "class Sum implements Operation\n",
    "{  \n",
    "  public int apply(int a, int b) { return a+b; }\n",
    "  public int getEmpty() { return 0; }\n",
    "}\n",
    "\n",
    "\n",
    "class Product implements Operation\n",
    "{\n",
    "  public int apply(int a, int b) { return a*b; }\n",
    "  public int getEmpty() { return 1; }\n",
    "}"
   ]
  },
  {
   "cell_type": "code",
   "execution_count": 13,
   "metadata": {},
   "outputs": [
    {
     "name": "stdout",
     "output_type": "stream",
     "text": [
      "4, 3, 6, 7, 2, 1, 5, \n",
      "Sum of elements: 28\n",
      "Product of elements: 5040\n"
     ]
    },
    {
     "data": {
      "text/plain": [
       "null"
      ]
     },
     "execution_count": 13,
     "metadata": {},
     "output_type": "execute_result"
    }
   ],
   "source": [
    "import java.util.*;\n",
    "\n",
    "List<Integer> list = Arrays.asList(4,3,6,7,2,1,5);\n",
    "\n",
    "for(Integer value : list) {\n",
    "  System.out.print(value+\", \");\n",
    "}\n",
    "\n",
    "System.out.println(\"\\nSum of elements: \" + FuncProg.for_each(list, new Sum()));\n",
    "\n",
    "System.out.println(\"Product of elements: \" + FuncProg.for_each(list, new Product()));"
   ]
  },
  {
   "cell_type": "markdown",
   "metadata": {},
   "source": [
    "### Lambda Expressions\n",
    "\n",
    "A lambda expression is a concise representation of an anonymous function that can be passed around.\n",
    "\n",
    "it doesn’t have a name, but it has a list of parameters, a body, a return type, and also possibly a list of exceptions that can be thrown.\n",
    "\n",
    "    (<parameter list>) -> { <body> }\n",
    "\n",
    "- Anonymous: because it doesn’t have an explicit name\n",
    "- Function: because a lambda isn’t associated with a particular class like a method is.\n",
    "- Passed around: a lambda expression can be passed as argument to a method or stored in a variable."
   ]
  },
  {
   "cell_type": "code",
   "execution_count": 14,
   "metadata": {},
   "outputs": [
    {
     "name": "stdout",
     "output_type": "stream",
     "text": [
      "1\n",
      "2\n",
      "3\n"
     ]
    },
    {
     "data": {
      "text/plain": [
       "null"
      ]
     },
     "execution_count": 14,
     "metadata": {},
     "output_type": "execute_result"
    }
   ],
   "source": [
    "import java.util.*;\n",
    "\n",
    "List<Integer> intSeq = Arrays.asList(1,2,3);\n",
    "\n",
    "intSeq.forEach(x -> System.out.println(x));"
   ]
  },
  {
   "cell_type": "code",
   "execution_count": 15,
   "metadata": {},
   "outputs": [
    {
     "name": "stdout",
     "output_type": "stream",
     "text": [
      "false\n",
      "true\n",
      "false\n"
     ]
    },
    {
     "data": {
      "text/plain": [
       "null"
      ]
     },
     "execution_count": 15,
     "metadata": {},
     "output_type": "execute_result"
    }
   ],
   "source": [
    "import java.util.*;\n",
    "\n",
    "List<Integer> intSeq = Arrays.asList(1,2,3);\n",
    "\n",
    "intSeq.forEach(x -> {\n",
    "  boolean even = (x % 2 == 0);\n",
    "  System.out.println(even);\n",
    "});\n"
   ]
  },
  {
   "cell_type": "markdown",
   "metadata": {},
   "source": [
    "### Functional Interface\n",
    "\n",
    "A _functional interface_ is an interface that specifies exactly one abstract method (exactly one non-default method)."
   ]
  },
  {
   "cell_type": "code",
   "execution_count": 16,
   "metadata": {},
   "outputs": [
    {
     "data": {
      "text/plain": [
       "null"
      ]
     },
     "execution_count": 16,
     "metadata": {},
     "output_type": "execute_result"
    }
   ],
   "source": [
    "@FunctionalInterface\n",
    "interface Fun {\n",
    "  int apply(int a);\n",
    "} "
   ]
  },
  {
   "cell_type": "code",
   "execution_count": 17,
   "metadata": {},
   "outputs": [
    {
     "name": "stdout",
     "output_type": "stream",
     "text": [
      "16\n"
     ]
    },
    {
     "data": {
      "text/plain": [
       "null"
      ]
     },
     "execution_count": 17,
     "metadata": {},
     "output_type": "execute_result"
    }
   ],
   "source": [
    "Fun sqrFn = (x) -> x*x;\n",
    "\n",
    "int res = sqrFn.apply(4); // return 16\n",
    "System.out.println(res);"
   ]
  },
  {
   "cell_type": "code",
   "execution_count": 18,
   "metadata": {},
   "outputs": [
    {
     "data": {
      "text/plain": [
       "null"
      ]
     },
     "execution_count": 18,
     "metadata": {},
     "output_type": "execute_result"
    }
   ],
   "source": [
    "@FunctionalInterface\n",
    "interface Fun<T> {\n",
    "  T apply(int a);\n",
    "} "
   ]
  },
  {
   "cell_type": "code",
   "execution_count": 19,
   "metadata": {},
   "outputs": [
    {
     "name": "stdout",
     "output_type": "stream",
     "text": [
      " [0] [1] [2] [3]\n"
     ]
    },
    {
     "data": {
      "text/plain": [
       "null"
      ]
     },
     "execution_count": 19,
     "metadata": {},
     "output_type": "execute_result"
    }
   ],
   "source": [
    "Fun<String> fun = (n) -> { String res = \"\";\n",
    "                   for(int i=0;i<n;++i) {\n",
    "                       res += \" [\"+i+\"]\";\n",
    "                   }\n",
    "                   return res;\n",
    "                 };\n",
    "\n",
    "String res2 = fun.apply(4);\n",
    "System.out.println(res2);"
   ]
  },
  {
   "cell_type": "markdown",
   "metadata": {},
   "source": [
    "The package `java.util.function` defines useful functional interfaces.\n",
    "\n",
    "|Interface |Method |\n",
    "|:----------|:-------|\n",
    "| `Consumer<T>` | `void accept(T t)` |\n",
    "| `BiConsumer<T,U>` | `void accept(T t, U u)` |\n",
    "| `ObjIntConsumer<T>` | `void accept(T t, int value)` |\n",
    "| `Function<T,R>` | `R apply(T t)` |\n",
    "| `BiFunction<T,U,R>` | `R apply(T t, U u)` |\n",
    "| `DoubleFunction<R>` | `R apply(double value)` |\n",
    "| `BinaryOperator<T>` | `T apply(Object, Object)` |\n",
    "| `Predicate<T>` | `boolean test(T t)` |\n",
    "| `Comparator<T>` | `int compare(T o1, T o2)` |\n",
    "| `Callable<T>` | `T call()` |\n"
   ]
  },
  {
   "cell_type": "code",
   "execution_count": 20,
   "metadata": {},
   "outputs": [
    {
     "name": "stdout",
     "output_type": "stream",
     "text": [
      " [0] [1] [2] [3]\n",
      "\n",
      "-----------------\n",
      "5:  [0] [1] [2] [3] [4]\n",
      "2:  [0] [1]\n",
      "3:  [0] [1] [2]\n",
      "4:  [0] [1] [2] [3]\n"
     ]
    },
    {
     "data": {
      "text/plain": [
       "null"
      ]
     },
     "execution_count": 20,
     "metadata": {},
     "output_type": "execute_result"
    }
   ],
   "source": [
    "import java.util.*;\n",
    "import java.util.function.*;\n",
    "\n",
    "Function<Integer,String> fun = (n) -> { String res = \"\";\n",
    "                                    for(int i=0;i<n;++i) {\n",
    "                                       res += \" [\"+i+\"]\";\n",
    "                                    }\n",
    "                                    return res;\n",
    "                                  };\n",
    "\n",
    "String res2 = fun.apply(4);\n",
    "System.out.println(res2);\n",
    "\n",
    "System.out.println(\"\\n-----------------\");\n",
    "List<Integer> intSeq = Arrays.asList(5,2,3,4);\n",
    "\n",
    "intSeq.forEach(x -> System.out.println(x+\": \"+fun.apply(x)));"
   ]
  },
  {
   "cell_type": "markdown",
   "metadata": {},
   "source": [
    "### Variable Capture\n",
    "\n",
    "Lambdas can interact with variables defined outside the body of the lambda. These variables are variable captured to create a closure.\n",
    "\n",
    "A **closure** is an instance of a function that can _reference non-local variables_ of that function with no restrictions. Lambdas close over values rather than variables.\n",
    "\n",
    "Local variables used inside the body of a lambda must be final or effectively final.\n"
   ]
  },
  {
   "cell_type": "code",
   "execution_count": 21,
   "metadata": {},
   "outputs": [
    {
     "name": "stdout",
     "output_type": "stream",
     "text": [
      "plus10(8) = 18\n",
      "18, \n",
      "-----------------\n",
      "4\n",
      "3\n",
      "6\n",
      "7\n",
      "2\n",
      "1\n",
      "5\n",
      "\n",
      "-----------------\n",
      "14, 13, 16, 17, 12, 11, 15, "
     ]
    },
    {
     "data": {
      "text/plain": [
       "null"
      ]
     },
     "execution_count": 21,
     "metadata": {},
     "output_type": "execute_result"
    }
   ],
   "source": [
    "import java.util.*;\n",
    "import java.util.function.*;\n",
    "\n",
    "BiFunction<Integer,Integer,Integer> plus = (a,b) -> a+b;\n",
    "\n",
    "int value10 = 10;\n",
    "Function plus10fn = b -> plus.apply(value10, (Integer)b);\n",
    "\n",
    "Consumer plus10 = b -> {\n",
    "  System.out.print(plus10fn.apply(b) + \", \");\n",
    "};\n",
    "\n",
    "System.out.println(\"plus10(8) = \" + plus10fn.apply(8));\n",
    "plus10.accept(8);\n",
    "\n",
    "List<Integer> list = Arrays.asList(4,3,6,7,2,1,5);\n",
    "System.out.println(\"\\n-----------------\");\n",
    "list.forEach(System.out::println);  // method reference\n",
    "\n",
    "System.out.println(\"\\n-----------------\");\n",
    "list.forEach(plus10);"
   ]
  },
  {
   "cell_type": "markdown",
   "metadata": {},
   "source": [
    "### Lazy evaluation \n",
    "\n",
    "Defers the evaluation of a method until another expression requires it.\n",
    "\n",
    "Lazy operations might be useful in the situations where input data is consumed gradually rather than having whole complete set of elements beforehand."
   ]
  },
  {
   "cell_type": "code",
   "execution_count": 22,
   "metadata": {},
   "outputs": [
    {
     "data": {
      "text/plain": [
       "null"
      ]
     },
     "execution_count": 22,
     "metadata": {},
     "output_type": "execute_result"
    }
   ],
   "source": [
    "class NonLazyEval {\n",
    "    \n",
    "  public static boolean compute(int number) {\n",
    "    System.out.println(\"computing number : \" + number);\n",
    "    return number > 5 ? true : false;\n",
    "  }\n",
    "\n",
    "  public static boolean process(int number) {\n",
    "    System.out.println(\"processing number : \" + number);\n",
    "    return number % 3 == 0 ? true : false;\n",
    "  }\n",
    "}"
   ]
  },
  {
   "cell_type": "code",
   "execution_count": 23,
   "metadata": {},
   "outputs": [
    {
     "name": "stdout",
     "output_type": "stream",
     "text": [
      "computing number : 4\n",
      "processing number : 4\n",
      "FALSE\n"
     ]
    },
    {
     "data": {
      "text/plain": [
       "null"
      ]
     },
     "execution_count": 23,
     "metadata": {},
     "output_type": "execute_result"
    }
   ],
   "source": [
    "int number = 4;\n",
    "boolean computeResult = NonLazyEval.compute(number);\n",
    "boolean processResult = NonLazyEval.process(number);\n",
    "\n",
    "if (computeResult && processResult) {\n",
    "    System.out.println(\"TRUE\");\n",
    "} else {\n",
    "    System.out.println(\"FALSE\");\n",
    "}"
   ]
  },
  {
   "cell_type": "code",
   "execution_count": 24,
   "metadata": {},
   "outputs": [
    {
     "data": {
      "text/plain": [
       "null"
      ]
     },
     "execution_count": 24,
     "metadata": {},
     "output_type": "execute_result"
    }
   ],
   "source": [
    "class LazyEval {\n",
    "    \n",
    "  public static boolean compute(int number) {\n",
    "    System.out.println(\"computing number : \" + number);\n",
    "    return number > 5 ? true : false;\n",
    "  }\n",
    "\n",
    "  public static boolean process(int number) {\n",
    "    System.out.println(\"processing number : \" + number);\n",
    "    return number % 3 == 0 ? true : false;\n",
    "  }\n",
    "}"
   ]
  },
  {
   "cell_type": "code",
   "execution_count": 25,
   "metadata": {},
   "outputs": [
    {
     "name": "stdout",
     "output_type": "stream",
     "text": [
      "computing number : 4\n",
      "FALSE\n"
     ]
    },
    {
     "data": {
      "text/plain": [
       "null"
      ]
     },
     "execution_count": 25,
     "metadata": {},
     "output_type": "execute_result"
    }
   ],
   "source": [
    "import java.util.function.*;\n",
    "\n",
    "int number = 4;\n",
    "Supplier<Boolean> computeResult = () -> LazyEval.compute(number);\n",
    "Supplier<Boolean> processResult = () -> LazyEval.process(number);\n",
    "\n",
    "if (computeResult.get() && processResult.get()) {\n",
    "    System.out.println(\"TRUE\");\n",
    "} else {\n",
    "    System.out.println(\"FALSE\");\n",
    "}"
   ]
  },
  {
   "cell_type": "markdown",
   "metadata": {},
   "source": [
    "### High-Order Functions\n",
    "\n",
    "The main concept behind functional programming is that *data* and *behaviors* can be treated and manipulated uniformly and in the same way.\n",
    "\n",
    "A **higher order function** is a function that either takes a function (method) as parameter, or returns a function after its execution.\n",
    "\n",
    "Common High-Order functions\n",
    "- Currying (binding)\n",
    "- Composition\n",
    "- Fold (reduce, accumulate, aggregate, foldR, foldL)\n",
    "- Map\n",
    "- For_each\n",
    "- Filter\n"
   ]
  },
  {
   "cell_type": "markdown",
   "metadata": {},
   "source": [
    "**Currying**"
   ]
  },
  {
   "cell_type": "code",
   "execution_count": 26,
   "metadata": {},
   "outputs": [
    {
     "data": {
      "text/plain": [
       "null"
      ]
     },
     "execution_count": 26,
     "metadata": {},
     "output_type": "execute_result"
    }
   ],
   "source": [
    "import java.util.function.*;\n",
    "\n",
    "public interface ExtendedBiFunction<T, U, R> extends BiFunction<T, U, R> \n",
    "{\n",
    "  default Function<U, R> curry1(T t) {\n",
    "    return u -> apply(t, u);\n",
    "  }\n",
    "\n",
    "  default Function<T, R> curry2(U u) {\n",
    "    return t -> apply(t, u);\n",
    "  }\n",
    "}"
   ]
  },
  {
   "cell_type": "code",
   "execution_count": 27,
   "metadata": {},
   "outputs": [
    {
     "name": "stdout",
     "output_type": "stream",
     "text": [
      "10 km -> miles: 6.213712\n",
      "20 km -> miles: 12.427424\n",
      "45 km -> miles: 27.961704\n"
     ]
    },
    {
     "data": {
      "text/plain": [
       "null"
      ]
     },
     "execution_count": 27,
     "metadata": {},
     "output_type": "execute_result"
    }
   ],
   "source": [
    "import java.util.function.*;\n",
    "\n",
    "ExtendedBiFunction<Double,Double,Double> converter= (rate,value)-> rate*value;\n",
    "\n",
    "Function<Double,Double> kmToMiles = converter.curry1(0.6213712);\n",
    "\n",
    "System.out.println(\"10 km -> miles: \"+kmToMiles.apply(10.0));\n",
    "System.out.println(\"20 km -> miles: \"+kmToMiles.apply(20.0));\n",
    "System.out.println(\"45 km -> miles: \"+kmToMiles.apply(45.0));\n"
   ]
  },
  {
   "cell_type": "markdown",
   "metadata": {},
   "source": [
    "**Composition**"
   ]
  },
  {
   "cell_type": "code",
   "execution_count": 28,
   "metadata": {},
   "outputs": [
    {
     "name": "stdout",
     "output_type": "stream",
     "text": [
      "10 kg -> lb: 22.046225\n",
      "35 kg -> lb: 77.1617875\n",
      "1 kg -> lb: 2.2046225\n",
      "\n",
      "-----------------\n",
      "10 kg -> lb: 22.046225\n",
      "35 kg -> lb: 77.1617875\n",
      "1 kg -> lb: 2.2046225\n"
     ]
    },
    {
     "data": {
      "text/plain": [
       "null"
      ]
     },
     "execution_count": 28,
     "metadata": {},
     "output_type": "execute_result"
    }
   ],
   "source": [
    "import java.util.function.*;\n",
    "\n",
    "ExtendedBiFunction<Double,Double,Double> converter= (rate,value)-> rate*value;\n",
    "\n",
    "Function<Double,Double> kgToOz = converter.curry1(35.27396);\n",
    "Function<Double,Double> ozToLb = converter.curry1(0.0625);\n",
    "\n",
    "Function<Double,Double> kgToLb = value -> ozToLb.apply(kgToOz.apply(value));\n",
    "\n",
    "System.out.println(\"10 kg -> lb: \"+kgToLb.apply(10.0));\n",
    "System.out.println(\"35 kg -> lb: \"+kgToLb.apply(35.0));\n",
    "System.out.println(\"1 kg -> lb: \"+kgToLb.apply(1.0));\n",
    "\n",
    "System.out.println(\"\\n-----------------\");\n",
    "Function<Double,Double> kgToLb2 = kgToOz.andThen(ozToLb);\n",
    "\n",
    "System.out.println(\"10 kg -> lb: \"+kgToLb2.apply(10.0));\n",
    "System.out.println(\"35 kg -> lb: \"+kgToLb2.apply(35.0));\n",
    "System.out.println(\"1 kg -> lb: \"+kgToLb2.apply(1.0));"
   ]
  },
  {
   "cell_type": "markdown",
   "metadata": {},
   "source": [
    "### Streams\n",
    "\n",
    "A Java **Stream** is a component that is capable of _internal iteration_ of its elements.\n",
    "\n",
    "Streams are wrappers around a data source, allowing us to operate with that data source and making bulk processing convenient and fast, and supporting pipelined of operations to produce the desired result.\n",
    "\n",
    "- A stream is not a data structure, instead it takes input from the Collections, Arrays or I/O channels.\n",
    "- Streams don’t change the original data structure.\n",
    "- Each intermediate operation is lazily executed and returns a stream as a result. There are **intermediate operations** that can be pipelined, and **terminal operations** to mark the end of the stream and return the result.\n",
    "- Streams are consumable.\n",
    "- Java Stream support sequential as well as parallel processing.\n"
   ]
  },
  {
   "cell_type": "code",
   "execution_count": 29,
   "metadata": {},
   "outputs": [
    {
     "name": "stdout",
     "output_type": "stream",
     "text": [
      "6\n",
      "8\n",
      "7\n",
      "Sum(list): 21\n",
      "-----------------\n",
      "2, 2, 3, 5, 6, 7, \n",
      "-----------------\n",
      "[16, 9, 36, 25, 1, 64, 49, 4]\n",
      "-----------------\n",
      "(4,6,8,2,)\n"
     ]
    },
    {
     "data": {
      "text/plain": [
       "null"
      ]
     },
     "execution_count": 29,
     "metadata": {},
     "output_type": "execute_result"
    }
   ],
   "source": [
    "import java.util.*;\n",
    "import java.util.stream.*;\n",
    "\n",
    "List<Integer> list = Arrays.asList(4,3,6,5,1,8,7,2);\n",
    "\n",
    "Integer res = list.stream().filter(i -> i > 5).peek(System.out::println).mapToInt(i -> i).sum();\n",
    "System.out.println(\"Sum(list): \"+res);\n",
    "\n",
    "System.out.println(\"-----------------\");\n",
    "Stream.of(2,5,7,2,6,3).sorted().forEach(x -> System.out.print(x+\", \")); \n",
    "\n",
    "System.out.println(\"\\n-----------------\");\n",
    "List<Integer> square = list.stream().map(x->x*x).collect(Collectors.toList());\n",
    "System.out.println(square);\n",
    "\n",
    "System.out.println(\"-----------------\");\n",
    "String even = list.stream().filter(x->x%2==0).map(x -> x.toString()).reduce(\"(\",(ans,i)-> ans+i+\",\")+\")\";\n",
    "System.out.println(even);"
   ]
  },
  {
   "cell_type": "code",
   "execution_count": 30,
   "metadata": {},
   "outputs": [
    {
     "name": "stdout",
     "output_type": "stream",
     "text": [
      "[4, 3, 6, 7, 2, 1, 5, 9, 11, 2, 34, 7, 31, 5, 7, 8]\n",
      "34,7,2,8,6,7,3,4,31,7,5,11,9,5,2,1,\n",
      "-----------------\n",
      "7,8,9,34,6,1,2,11,3,4,31,7,7,5,2,5,"
     ]
    },
    {
     "data": {
      "text/plain": [
       "null"
      ]
     },
     "execution_count": 30,
     "metadata": {},
     "output_type": "execute_result"
    }
   ],
   "source": [
    "import java.util.*;\n",
    "import java.util.stream.*;\n",
    "\n",
    "List<Integer> list = Arrays.asList(4,3,6,7,2,1,5,9,11,2,34,7,31,5,7,8);\n",
    "\n",
    "System.out.println(list);\n",
    "list.stream().parallel().forEach(e -> System.out.print(e+\",\"));\n",
    "System.out.println(\"\\n-----------------\");\n",
    "list.parallelStream().forEach(e -> System.out.print(e+\",\"));"
   ]
  },
  {
   "cell_type": "markdown",
   "metadata": {},
   "source": [
    "## Inner Classes"
   ]
  },
  {
   "cell_type": "markdown",
   "metadata": {},
   "source": [
    "### Nested Classes\n",
    "\n",
    "A **nested class** is a class with another class as its member.\n",
    "\n",
    "    class Outer {\n",
    "      class Inner {\n",
    "       ...\n",
    "      }\n",
    "      ...\n",
    "    }\n",
    "\n",
    "- *Inner classes* are used for logical grouping of classes. \n",
    "- In cases where you have a class (e.g., class B) that is only used by another class (e.g., class A) it’s better to put class B as an inner class to class A.\n",
    "- This improves encapsulation, information hiding, and readability of the code. "
   ]
  },
  {
   "cell_type": "markdown",
   "metadata": {},
   "source": [
    "Nested classes are divided into two types\n",
    "- **Non-static nested classes**: these are the non-static members of a class.\n",
    "- **Static nested classes**: these are the static members of a class.\n",
    "\n",
    "<img src=\"images/nested_classes.png\" width=\"600\"/>"
   ]
  },
  {
   "cell_type": "markdown",
   "metadata": {},
   "source": [
    "Within the definition of a method of an _inner class_:\n",
    "- It is legal to reference a private instance variable of the outer class\n",
    "- It is legal to invoke a private method of the outer class\n",
    "\n",
    "Within the definition of a method of the _outer class_:\n",
    "- It is legal to reference a private instance variable of the inner class on an object of the inner class\n",
    "- It is legal to invoke a method of the inner class as long as an object of the inner class is used as a calling object"
   ]
  },
  {
   "cell_type": "code",
   "execution_count": 31,
   "metadata": {},
   "outputs": [
    {
     "data": {
      "text/plain": [
       "null"
      ]
     },
     "execution_count": 31,
     "metadata": {},
     "output_type": "execute_result"
    }
   ],
   "source": [
    "public class Outer {\n",
    "  private int n = 0;\n",
    "  \n",
    "  class Inner {\n",
    "    private int k;\n",
    "    void someMethod() { n++; }  \n",
    "\n",
    "    public String toString() {\n",
    "      return \"n=\"+n+\" inner.k=\"+k;\n",
    "    }\n",
    "  }\n",
    "\n",
    "  void otherMethod(Inner obj) { \n",
    "      obj.k += 1;\n",
    "      obj.someMethod();\n",
    "  }\n",
    "}"
   ]
  },
  {
   "cell_type": "code",
   "execution_count": 32,
   "metadata": {},
   "outputs": [
    {
     "name": "stdout",
     "output_type": "stream",
     "text": [
      "n=2 inner.k=1\n"
     ]
    },
    {
     "data": {
      "text/plain": [
       "null"
      ]
     },
     "execution_count": 32,
     "metadata": {},
     "output_type": "execute_result"
    }
   ],
   "source": [
    "Outer outRef = new Outer();\n",
    "Outer.Inner innerRef = outRef.new Inner();\n",
    "\n",
    "outRef.otherMethod(innerRef);\n",
    "innerRef.someMethod();\n",
    "\n",
    "System.out.println(innerRef);"
   ]
  },
  {
   "cell_type": "markdown",
   "metadata": {},
   "source": [
    "### Static Inner Class\n",
    "\n",
    "A static inner class is a nested class which is a static member of the outer class. \n",
    "\n",
    "- It can be accessed without instantiating the outer class, using other static members. \n",
    "- Non-static members of the outer class are not available, because there is not instance of the outer class.\n",
    "\n",
    "\n",
    "    class Outer {\n",
    "      static class Inner {\n",
    "       ...\n",
    "      }\n",
    "      ...\n",
    "    }\n"
   ]
  },
  {
   "cell_type": "markdown",
   "metadata": {},
   "source": [
    "### Method-local Inner Class\n",
    "\n",
    "In Java, we can write a class within a method and this will be a local type. The scope of the inner class is restricted within the method.\n",
    "\n",
    "A method-local inner class can be instantiated only within the method where the inner class is defined.\n",
    "\n",
    "\n",
    "    class OuterClass {\n",
    "      ...\n",
    "      returnType methodName(arguments) {\n",
    "        class LocalInnerClass {\n",
    "          ...\n",
    "        }\n",
    "        ...\n",
    "      }\n",
    "    }\n"
   ]
  },
  {
   "cell_type": "markdown",
   "metadata": {},
   "source": [
    "### Anonymous Inner Classes\n",
    "\n",
    "Anonymous class definition can be used when only one object is needed.\n",
    "\n",
    "- Usually the inner class extend some interface or extend another class.\n",
    "\n",
    "- The class definition is embedded inside the expression with the new operator\n",
    "\n",
    "\n",
    "    SuperType obj = new SuperType(parameters) {\n",
    "      // methods and data\n",
    "    }\n",
    "\n",
    "    InterfaceType obj = new InterfaceType() {\n",
    "      // methods and data\n",
    "    }\n",
    "\n"
   ]
  },
  {
   "cell_type": "code",
   "execution_count": 33,
   "metadata": {},
   "outputs": [
    {
     "name": "stdout",
     "output_type": "stream",
     "text": [
      "1\n",
      "2\n",
      "4\n",
      "6\n",
      "7\n",
      "8\n",
      "15\n",
      "37\n"
     ]
    },
    {
     "data": {
      "text/plain": [
       "null"
      ]
     },
     "execution_count": 33,
     "metadata": {},
     "output_type": "execute_result"
    }
   ],
   "source": [
    "import java.util.*;\n",
    "\n",
    "List<Integer> list = Arrays.asList(4,37,8,15,7,2,6,1);\n",
    "    \n",
    "Comparator<Integer> comp = new Comparator<Integer>() {\n",
    "    public int compare(Integer a, Integer b) {\n",
    "      return a - b;\n",
    "    }\n",
    "};\n",
    "\n",
    "Collections.sort(list, comp);\n",
    "\n",
    "list.stream().forEach(System.out::println);"
   ]
  },
  {
   "cell_type": "markdown",
   "metadata": {},
   "source": [
    "## Reflection"
   ]
  },
  {
   "cell_type": "markdown",
   "metadata": {},
   "source": [
    "- **Type introspection** is the ability of a program to examine the type or properties of an object at runtime. \n",
    "\n",
    "\n",
    "- **Reflection** is the ability of a computer program to examine and modify the structure and behavior (specifically the values, meta-data, properties and functions) of a program at runtime.\n",
    "\n"
   ]
  },
  {
   "cell_type": "code",
   "execution_count": 34,
   "metadata": {},
   "outputs": [
    {
     "data": {
      "text/plain": [
       "null"
      ]
     },
     "execution_count": 34,
     "metadata": {},
     "output_type": "execute_result"
    }
   ],
   "source": [
    "public final class Manager {\n",
    "  private Employee employee;\n",
    "  public final String title;\n",
    "\n",
    "  Manager(String name) {\n",
    "    employee = new Employee(name);\n",
    "    title = \"Regional Manager\";\n",
    "  }\n",
    "  \n",
    "  public int getId() { \n",
    "    return employee.getId(); \n",
    "  }\n",
    "\n",
    "  public String getName() {\n",
    "    return employee.getName();\n",
    "  }\n",
    "}"
   ]
  },
  {
   "cell_type": "code",
   "execution_count": 35,
   "metadata": {},
   "outputs": [
    {
     "name": "stdout",
     "output_type": "stream",
     "text": [
      "c1:Manager\n",
      "c2:Object\n",
      "\n",
      "c1 isPublic:true\n",
      "c1 isAbstract:false\n",
      "c1 isStatic:true\n",
      "c1 isFinal:false\n"
     ]
    },
    {
     "data": {
      "text/plain": [
       "null"
      ]
     },
     "execution_count": 35,
     "metadata": {},
     "output_type": "execute_result"
    }
   ],
   "source": [
    "import java.lang.reflect.*;\n",
    "\n",
    "Manager mng = new Manager(\"John Smith\");\n",
    "\n",
    "Class c1 = mng.getClass();\n",
    "Class<?> c2 = c1.getSuperclass();\n",
    "\n",
    "System.out.println(\"c1:\"+c1.getSimpleName());\n",
    "System.out.println(\"c2:\"+c2.getSimpleName());\n",
    "\n",
    "int modifiers = c1.getModifiers();  \n",
    "System.out.println(\"\\nc1 isPublic:\"+ Modifier.isPublic(modifiers));\n",
    "System.out.println(\"c1 isAbstract:\"+ Modifier.isAbstract(modifiers));\n",
    "System.out.println(\"c1 isStatic:\"+ Modifier.isStatic(modifiers));\n",
    "System.out.println(\"c1 isFinal:\" + Modifier.isFinal(modifiers));"
   ]
  },
  {
   "cell_type": "markdown",
   "metadata": {},
   "source": [
    "**Class Members/Fields** "
   ]
  },
  {
   "cell_type": "code",
   "execution_count": 36,
   "metadata": {},
   "outputs": [
    {
     "name": "stdout",
     "output_type": "stream",
     "text": [
      "Public memebers of Manager\n",
      " - title\n",
      "All memebers of Manager\n",
      " - employee\n",
      " - title\n"
     ]
    },
    {
     "data": {
      "text/plain": [
       "null"
      ]
     },
     "execution_count": 36,
     "metadata": {},
     "output_type": "execute_result"
    }
   ],
   "source": [
    "import java.lang.reflect.*;\n",
    "\n",
    "Manager mng = new Manager(\"John Smith\");\n",
    "\n",
    "Class c1 = mng.getClass();\n",
    "Class<?> c2 = c1.getSuperclass();\n",
    "\n",
    "Field[] publicFields = c1.getFields();\n",
    "Field[] allfields = c1.getDeclaredFields();\n",
    "System.out.println(\"Public memebers of \"+c1.getSimpleName());\n",
    "for (Field field: publicFields) {\n",
    "  System.out.println(\" - \" + field.getName());\n",
    "}\n",
    "System.out.println(\"All memebers of \"+c1.getSimpleName());\n",
    "for (Field field: allfields) {\n",
    "  System.out.println(\" - \" + field.getName());\n",
    "}"
   ]
  },
  {
   "cell_type": "markdown",
   "metadata": {},
   "source": [
    "**Class Methods**"
   ]
  },
  {
   "cell_type": "code",
   "execution_count": 37,
   "metadata": {},
   "outputs": [
    {
     "name": "stdout",
     "output_type": "stream",
     "text": [
      "Public methods of Manager\n",
      " - getName -> java.lang.String\n",
      " - getId -> int\n",
      " - wait -> void\n",
      " - wait -> void\n",
      " - wait -> void\n",
      " - equals -> boolean\n",
      " - toString -> java.lang.String\n",
      " - hashCode -> int\n",
      " - getClass -> java.lang.Class\n",
      " - notify -> void\n",
      " - notifyAll -> void\n",
      "All methods of Manager\n",
      " - getName -> java.lang.String\n",
      " - getId -> int\n"
     ]
    },
    {
     "data": {
      "text/plain": [
       "null"
      ]
     },
     "execution_count": 37,
     "metadata": {},
     "output_type": "execute_result"
    }
   ],
   "source": [
    "import java.lang.reflect.*;\n",
    "\n",
    "Manager mng = new Manager(\"John Smith\");\n",
    "\n",
    "Class c1 = mng.getClass();\n",
    "Class<?> c2 = c1.getSuperclass();\n",
    "\n",
    "Method[] publicMethods = c1.getMethods();\n",
    "Method[] allMethods = c1.getDeclaredMethods();\n",
    "System.out.println(\"Public methods of \"+c1.getSimpleName());\n",
    "for(Method method: publicMethods) {\n",
    "  System.out.println(\" - \" + method.getName()\n",
    "                     + \" -> \"+method.getReturnType().getName());\n",
    "}\n",
    "System.out.println(\"All methods of \"+c1.getSimpleName());\n",
    "for(Method method: allMethods) {\n",
    "  System.out.println(\" - \" + method.getName()\n",
    "                     + \" -> \"+method.getReturnType().getName());\n",
    "}"
   ]
  },
  {
   "cell_type": "markdown",
   "metadata": {},
   "source": [
    "## Garbage Collection"
   ]
  },
  {
   "cell_type": "markdown",
   "metadata": {},
   "source": [
    "### Memory Management\n",
    "\n",
    "Different techniques to deal with memory (garbage memory):\n",
    "- Manual\n",
    "    - It’s the programmers problem:\n",
    "        - Explicit allocation/deallocation\n",
    "- Semi-automatic \n",
    "    - **Reference counting** : Keep track of the number of pointers to each object (the reference count). When the reference count goes to 0, the object is unreachable garbage and can be destroyed\n",
    "- Automatic\n",
    "    - **Garbage collection** : Is the process of looking at heap memory, identifying which objects are in use and which are not, and deleting the unused objects. \n",
    "        - An in **_use object_**, or a referenced object, means that some part of your program still maintains a pointer to that object. \n",
    "        - An **_unused object_**, or unreferenced object, is no longer referenced by any part of your program. So the memory used by an unreferenced object can be reclaimed.\n",
    "\n",
    "### GC Algorithms\n",
    "            \n",
    "- Copying collection\n",
    "- Mark-sweep\n",
    "- Generational GC\n"
   ]
  }
 ],
 "metadata": {
  "kernelspec": {
   "display_name": "Java11",
   "language": "java",
   "name": "java"
  },
  "language_info": {
   "codemirror_mode": "text/x-java",
   "file_extension": ".java",
   "mimetype": "",
   "name": "Java",
   "nbconverter_exporter": "",
   "version": "11.0.9.1"
  },
  "toc": {
   "base_numbering": 1,
   "nav_menu": {},
   "number_sections": true,
   "sideBar": true,
   "skip_h1_title": true,
   "title_cell": "Table of Contents",
   "title_sidebar": "Contents",
   "toc_cell": false,
   "toc_position": {
    "height": "calc(100% - 180px)",
    "left": "10px",
    "top": "150px",
    "width": "286.167px"
   },
   "toc_section_display": true,
   "toc_window_display": false
  }
 },
 "nbformat": 4,
 "nbformat_minor": 2
}
