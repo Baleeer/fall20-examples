{
 "cells": [
  {
   "cell_type": "markdown",
   "metadata": {},
   "source": [
    "# ECE 325 - Final Term Review  - part 1 (Fall20)"
   ]
  },
  {
   "cell_type": "markdown",
   "metadata": {},
   "source": [
    "## Primitive Types"
   ]
  },
  {
   "cell_type": "code",
   "execution_count": 1,
   "metadata": {},
   "outputs": [
    {
     "name": "stdout",
     "output_type": "stream",
     "text": [
      "int:5, double:7.0, long:4, float:3.0, boolean:false\n"
     ]
    },
    {
     "data": {
      "text/plain": [
       "null"
      ]
     },
     "execution_count": 1,
     "metadata": {},
     "output_type": "execute_result"
    }
   ],
   "source": [
    "int x = 5;\n",
    "double y = 7.0;\n",
    "long z = 4L;\n",
    "float w = 3f;\n",
    "boolean b = false;\n",
    "char a = 'a';\n",
    "\n",
    "System.out.println(\"int:\"+x +\", double:\"+ y+\", long:\"+z+\", float:\"+w+\", boolean:\"+b);"
   ]
  },
  {
   "cell_type": "markdown",
   "metadata": {},
   "source": [
    "## Autoboxing"
   ]
  },
  {
   "cell_type": "markdown",
   "metadata": {},
   "source": [
    "Autoboxing converts primitive types into Object based types"
   ]
  },
  {
   "cell_type": "code",
   "execution_count": 2,
   "metadata": {},
   "outputs": [
    {
     "name": "stdout",
     "output_type": "stream",
     "text": [
      "Integer:5, Double:7.0, Long:4, Float:3.0, Boolean:false\n",
      "\n",
      "d:5.0\n",
      "\n",
      "num:4\n",
      "\n",
      "Class of xobj: class java.lang.Integer\n",
      "Class of num: class java.lang.Long\n",
      "xobj instance of Number: true\n",
      "\n",
      "bool:true\n"
     ]
    },
    {
     "data": {
      "text/plain": [
       "null"
      ]
     },
     "execution_count": 2,
     "metadata": {},
     "output_type": "execute_result"
    }
   ],
   "source": [
    "int x = 5;\n",
    "double y = 7;\n",
    "long z = 4L;\n",
    "float w = 3f;\n",
    "boolean b = false;\n",
    "\n",
    "Integer xobj = x;\n",
    "Double yobj = y;\n",
    "Long zobj = z;\n",
    "Float wobj = w;\n",
    "Boolean bobj = b;\n",
    "\n",
    "System.out.println(\"Integer:\"+xobj +\", Double:\"+ yobj+\", Long:\"+zobj+\", Float:\"+wobj+\", Boolean:\"+bobj+\"\\n\");\n",
    "\n",
    "// Double d = xobj;\n",
    "Double d = xobj.doubleValue();\n",
    "Float f = xobj.floatValue();\n",
    "System.out.println(\"d:\" + d+\"\\n\");\n",
    "\n",
    "// Number is an interface (https://docs.oracle.com/javase/8/docs/api/java/lang/Number.html)\n",
    "Number num = zobj;\n",
    "System.out.println(\"num:\" + num+\"\\n\");\n",
    "\n",
    "System.out.println(\"Class of xobj: \" + xobj.getClass());\n",
    "System.out.println(\"Class of num: \" + num.getClass());\n",
    "System.out.println(\"xobj instance of Number: \" + (xobj instanceof Number)+\"\\n\");\n",
    "\n",
    "Boolean bool = wobj.intValue() > 0;\n",
    "System.out.println(\"bool:\" + bool);\n",
    "\n",
    "// Boolean does not implements the Number interface\n",
    "// System.out.println(\"Boolean instance of Number: \" + (bobj instanceof Number)+\"\\n\");    "
   ]
  },
  {
   "cell_type": "markdown",
   "metadata": {},
   "source": [
    "`Number` is an interface (https://docs.oracle.com/javase/8/docs/api/java/lang/Number.html)"
   ]
  },
  {
   "cell_type": "markdown",
   "metadata": {},
   "source": [
    "### Arrays"
   ]
  },
  {
   "cell_type": "code",
   "execution_count": 3,
   "metadata": {},
   "outputs": [
    {
     "name": "stdout",
     "output_type": "stream",
     "text": [
      "Length of array1: 10\n",
      "Length of array2: 8\n",
      "array1: [I@372e026a\n",
      "0 0 0 0 456 0 0 0 0 0 \n",
      "--------------\n",
      "null 456.0 null 556.0 null null null null "
     ]
    },
    {
     "data": {
      "text/plain": [
       "null"
      ]
     },
     "execution_count": 3,
     "metadata": {},
     "output_type": "execute_result"
    }
   ],
   "source": [
    "int[] array1 = new int[10];\n",
    "\n",
    "int n = 8;\n",
    "Double[] array2 = new Double[n];\n",
    "\n",
    "System.out.println(\"Length of array1: \"+array1.length);\n",
    "System.out.println(\"Length of array2: \"+array2.length);\n",
    "\n",
    "array1[4] = 456;\n",
    "System.out.println(\"array1: \"+array1);\n",
    "for (int v : array1)\n",
    "    System.out.print(v + \" \");\n",
    "\n",
    "System.out.println(\"\\n--------------\");\n",
    "array2[1] = (double) array1[4];\n",
    "array2[3] = ((Integer)array1[4]).doubleValue() + 100;\n",
    "for (Double v : array2)\n",
    "    System.out.print(v+\" \");"
   ]
  },
  {
   "cell_type": "markdown",
   "metadata": {},
   "source": [
    "## Strings"
   ]
  },
  {
   "cell_type": "code",
   "execution_count": 4,
   "metadata": {},
   "outputs": [
    {
     "name": "stdout",
     "output_type": "stream",
     "text": [
      "str:Hello, World! length:13\n",
      "Character at 7th position:W\n"
     ]
    },
    {
     "data": {
      "text/plain": [
       "null"
      ]
     },
     "execution_count": 4,
     "metadata": {},
     "output_type": "execute_result"
    }
   ],
   "source": [
    "String str = \"Hello, World!\";\n",
    "\n",
    "System.out.println(\"str:\"+ str +\" length:\"+ str.length());\n",
    "\n",
    "Character ch = str.charAt(7);\n",
    "\n",
    "System.out.println(\"Character at 7th position:\" + ch);"
   ]
  },
  {
   "cell_type": "code",
   "execution_count": 5,
   "metadata": {},
   "outputs": [
    {
     "name": "stdout",
     "output_type": "stream",
     "text": [
      "H\n",
      " e\n",
      "  l\n",
      "   l\n",
      "    o\n",
      "     ,\n",
      "       \n",
      "       W\n",
      "        o\n",
      "         r\n",
      "          l\n",
      "           d\n",
      "            !\n"
     ]
    },
    {
     "data": {
      "text/plain": [
       "null"
      ]
     },
     "execution_count": 5,
     "metadata": {},
     "output_type": "execute_result"
    }
   ],
   "source": [
    "String str = \"Hello, World!\";\n",
    "\n",
    "char[] letters = str.toCharArray();\n",
    "\n",
    "String spc = \"\";\n",
    "for(char c : letters) {\n",
    "    System.out.println(spc+c);\n",
    "    spc += \" \";\n",
    "}"
   ]
  },
  {
   "cell_type": "code",
   "execution_count": 6,
   "metadata": {},
   "outputs": [
    {
     "name": "stdout",
     "output_type": "stream",
     "text": [
      "hello world\n",
      "hello world\n",
      "\n",
      "str == strHW: false\n",
      "\n",
      "str equals strHW: true\n",
      "\n",
      "str.hashCode: 1794106052\n",
      "\n",
      "strHW.hashCode: 1794106052\n"
     ]
    },
    {
     "data": {
      "text/plain": [
       "null"
      ]
     },
     "execution_count": 6,
     "metadata": {},
     "output_type": "execute_result"
    }
   ],
   "source": [
    "String str = \"hello world\";\n",
    "String hello = \"HELLO\";\n",
    "String world = \"world\";\n",
    "\n",
    "String strHW = hello.toLowerCase() + \" \" + world;\n",
    "\n",
    "System.out.println(str);\n",
    "System.out.println(strHW);\n",
    "\n",
    "System.out.println(\"\\nstr == strHW: \"+ (str == strHW));\n",
    "\n",
    "System.out.println(\"\\nstr equals strHW: \"+ (str.equals(strHW)));\n",
    "\n",
    "System.out.println(\"\\nstr.hashCode: \" + str.hashCode());\n",
    "System.out.println(\"\\nstrHW.hashCode: \" + strHW.hashCode());"
   ]
  },
  {
   "cell_type": "markdown",
   "metadata": {},
   "source": [
    "## Regular Expressions"
   ]
  },
  {
   "cell_type": "markdown",
   "metadata": {},
   "source": [
    "A Regular Expression (or *regex*) is a text string for describing a __search pattern__ that can be applied to a text.\n",
    "\n",
    "(Good online reference: https://regex101.com/)"
   ]
  },
  {
   "cell_type": "code",
   "execution_count": 7,
   "metadata": {},
   "outputs": [
    {
     "data": {
      "text/plain": [
       "null"
      ]
     },
     "execution_count": 7,
     "metadata": {},
     "output_type": "execute_result"
    }
   ],
   "source": [
    "import java.util.regex.*;\n",
    "    \n",
    "public class RegexTest {\n",
    "    public static void test(String text, String pattern) {\n",
    "        Pattern p = Pattern.compile(pattern);\n",
    "        Matcher m = p.matcher(text);\n",
    "        while (m.find()) {\n",
    "            System.out.println(\"--------------------\");\n",
    "            System.out.println(text.substring(m.start(), m.end()));\n",
    "            for (int i=1; i <= m.groupCount(); ++i)\n",
    "                System.out.println(\"group \"+i+\": \"+m.group(i));\n",
    "        }\n",
    "    }\n",
    "}"
   ]
  },
  {
   "cell_type": "code",
   "execution_count": 8,
   "metadata": {},
   "outputs": [
    {
     "name": "stdout",
     "output_type": "stream",
     "text": [
      "--------------------\n",
      "ow\n",
      "--------------------\n",
      "is\n",
      "--------------------\n",
      "the\n",
      "--------------------\n",
      "time\n"
     ]
    },
    {
     "data": {
      "text/plain": [
       "null"
      ]
     },
     "execution_count": 8,
     "metadata": {},
     "output_type": "execute_result"
    }
   ],
   "source": [
    "RegexTest.test(\"Now is the time\", \"[a-z]+\");"
   ]
  },
  {
   "cell_type": "code",
   "execution_count": 9,
   "metadata": {},
   "outputs": [
    {
     "name": "stdout",
     "output_type": "stream",
     "text": [
      "--------------------\n",
      "-0.2361E5\n",
      "--------------------\n",
      "0.123E-23\n",
      "--------------------\n",
      "0.1e233\n"
     ]
    },
    {
     "data": {
      "text/plain": [
       "null"
      ]
     },
     "execution_count": 9,
     "metadata": {},
     "output_type": "execute_result"
    }
   ],
   "source": [
    "RegexTest.test(\"-0.2361E5 4.34 0.123E-23 +0.1e233\",\"-?0.[0-9]+[eE]-?[0-9]+\");"
   ]
  },
  {
   "cell_type": "code",
   "execution_count": 10,
   "metadata": {},
   "outputs": [
    {
     "name": "stdout",
     "output_type": "stream",
     "text": [
      "--------------------\n",
      "-0.2361E5\n",
      "--------------------\n",
      "0.123E-23\n",
      "--------------------\n",
      "0.1e233\n"
     ]
    },
    {
     "data": {
      "text/plain": [
       "null"
      ]
     },
     "execution_count": 10,
     "metadata": {},
     "output_type": "execute_result"
    }
   ],
   "source": [
    "RegexTest.test(\"-0.2361E5 4.34 0.123E-23 +0.1e233\",\"-?0.\\\\d+[eE]-?\\\\d+\");"
   ]
  },
  {
   "cell_type": "markdown",
   "metadata": {},
   "source": [
    "In Java, the character `\\` needs to be escaped `\\\\`, for example:\n",
    "\n",
    "- regex: `\"t\\d+\"` -> matches `t0`, `t532`\n",
    "- Java: `\"t\\\\d+\"`"
   ]
  },
  {
   "cell_type": "code",
   "execution_count": 11,
   "metadata": {},
   "outputs": [
    {
     "name": "stdout",
     "output_type": "stream",
     "text": [
      "--------------------\n",
      "123-456-7890\n",
      "group 1: 123\n",
      "--------------------\n",
      "(123) 456-7890\n",
      "group 1: 123\n",
      "--------------------\n",
      "123 456 7890\n",
      "group 1: 123\n",
      "--------------------\n",
      "123.456.7890\n",
      "group 1: 123\n",
      "--------------------\n",
      "+1 (123) 456-7890\n",
      "group 1: 123\n"
     ]
    },
    {
     "data": {
      "text/plain": [
       "null"
      ]
     },
     "execution_count": 11,
     "metadata": {},
     "output_type": "execute_result"
    }
   ],
   "source": [
    "String phoneRegex = \"(?:\\\\+1\\\\s)?\\\\(?(\\\\d{3})\\\\)?[\\\\s.-]\\\\d{3}[\\\\s.-]\\\\d{4}\";\n",
    "\n",
    "RegexTest.test(\"123-456-7890\",phoneRegex);\n",
    "RegexTest.test(\"(123) 456-7890\",phoneRegex);\n",
    "RegexTest.test(\"123 456 7890\",phoneRegex);\n",
    "RegexTest.test(\"123.456.7890\",phoneRegex);\n",
    "RegexTest.test(\"+1 (123) 456-7890\",phoneRegex);"
   ]
  },
  {
   "cell_type": "markdown",
   "metadata": {},
   "source": [
    "## Classes and Objects"
   ]
  },
  {
   "cell_type": "markdown",
   "metadata": {},
   "source": [
    "A __Class__ is composed of two components:\n",
    "\n",
    "- the *state* (attributes, data members, data fields)\n",
    "- the *behaviour* (methods)\n",
    "\n",
    "A class is a *template* for some useful entity defined by its state and behaviour."
   ]
  },
  {
   "cell_type": "markdown",
   "metadata": {},
   "source": [
    "![](http://www.plantuml.com/plantuml/png/9Sj12i8m48NX_PnYbfMQ2sHLB9x04qoJeGGd4vaaWeXtDxJBz_Y_fJQorhD04AeLLpByWbFAxF7HBEcEu7A9B1wJDd07uEXnAqMO5DoRfOJKFXvZwPimp2lPTEBhC1UO3tJNFIbFOr88B6pKU3h9-5x6jTwCwJcA7ooiiMVv0m00)"
   ]
  },
  {
   "cell_type": "code",
   "execution_count": 12,
   "metadata": {},
   "outputs": [
    {
     "data": {
      "text/plain": [
       "null"
      ]
     },
     "execution_count": 12,
     "metadata": {},
     "output_type": "execute_result"
    }
   ],
   "source": [
    "public class Car\n",
    "{\n",
    "    private String name;\n",
    "    private int model;\n",
    "    private boolean started;\n",
    "    private double velocity;\n",
    "    \n",
    "    public Car(String name, int model) {\n",
    "        this.name = name;\n",
    "        this.model = model;\n",
    "        started = false;\n",
    "        velocity = 0;\n",
    "    }\n",
    "    \n",
    "    public void startEngine() {\n",
    "        started = true;\n",
    "    }\n",
    "    \n",
    "    public void accelerate(double v) {\n",
    "        if (started)\n",
    "            this.velocity +=v;\n",
    "    }\n",
    "    \n",
    "    public void pressBreak() {\n",
    "        this.velocity = 0;\n",
    "    }\n",
    "    \n",
    "    public double getVelocity() {\n",
    "        return velocity;\n",
    "    }\n",
    "}"
   ]
  },
  {
   "cell_type": "code",
   "execution_count": 13,
   "metadata": {},
   "outputs": [
    {
     "name": "stdout",
     "output_type": "stream",
     "text": [
      "car1: REPL.$JShell$106$Car@393c938c\n",
      "car2: REPL.$JShell$106$Car@f06a99\n"
     ]
    },
    {
     "data": {
      "text/plain": [
       "null"
      ]
     },
     "execution_count": 13,
     "metadata": {},
     "output_type": "execute_result"
    }
   ],
   "source": [
    "Car car1 = new Car(\"Ford\",1989);\n",
    "Car car2 = new Car(\"Kia\",2015);\n",
    "\n",
    "System.out.println(\"car1: \" + car1);\n",
    "System.out.println(\"car2: \" + car2);"
   ]
  },
  {
   "cell_type": "code",
   "execution_count": 14,
   "metadata": {},
   "outputs": [
    {
     "name": "stdout",
     "output_type": "stream",
     "text": [
      "car3: REPL.$JShell$106$Car@393c938c\n"
     ]
    },
    {
     "data": {
      "text/plain": [
       "null"
      ]
     },
     "execution_count": 14,
     "metadata": {},
     "output_type": "execute_result"
    }
   ],
   "source": [
    "Car car3 = car1;\n",
    "System.out.println(\"car3: \" + car3);"
   ]
  },
  {
   "cell_type": "code",
   "execution_count": 15,
   "metadata": {},
   "outputs": [
    {
     "name": "stdout",
     "output_type": "stream",
     "text": [
      "car3: REPL.$JShell$106$Car@393c938c\n",
      "\n",
      "car1 == car3: true\n",
      "\n",
      "car1.hashcode: 960271244\n",
      "car3.hashcode: 960271244\n",
      "\n",
      "car1 == car3: false\n",
      "\n",
      "car1 equals car3: false\n",
      "\n",
      "car1.hashcode: 960271244\n",
      "car2.hashcode: 15755929\n",
      "car3.hashcode: 793487801\n"
     ]
    },
    {
     "data": {
      "text/plain": [
       "null"
      ]
     },
     "execution_count": 15,
     "metadata": {},
     "output_type": "execute_result"
    }
   ],
   "source": [
    "car1.startEngine();\n",
    "\n",
    "System.out.println(\"car3: \" + car3);\n",
    "\n",
    "System.out.println(\"\\ncar1 == car3: \" + (car1==car3));\n",
    "System.out.println(\"\\ncar1.hashcode: \"+car1.hashCode());\n",
    "System.out.println(\"car3.hashcode: \"+car3.hashCode());\n",
    "\n",
    "car3 = new Car(\"Ford\",1989);\n",
    "System.out.println(\"\\ncar1 == car3: \" + (car1==car3));\n",
    "System.out.println(\"\\ncar1 equals car3: \" + (car1.equals(car3)));\n",
    "System.out.println(\"\\ncar1.hashcode: \"+car1.hashCode());\n",
    "System.out.println(\"car2.hashcode: \"+car2.hashCode());\n",
    "System.out.println(\"car3.hashcode: \"+car3.hashCode());"
   ]
  },
  {
   "cell_type": "markdown",
   "metadata": {},
   "source": [
    "### Overloading\n",
    "\n",
    "Method Overloading allows a class to have more than one method with the *same name*, if their argument lists (signature) are *different*.\n",
    "\n",
    "Consider *Widening conversion* and *Narrowing conversion*"
   ]
  },
  {
   "cell_type": "code",
   "execution_count": 16,
   "metadata": {
    "code_folding": []
   },
   "outputs": [
    {
     "data": {
      "text/plain": [
       "null"
      ]
     },
     "execution_count": 16,
     "metadata": {},
     "output_type": "execute_result"
    }
   ],
   "source": [
    "class Operations    \n",
    "{\n",
    "    private static final double Pi = 3.141592;\n",
    "    \n",
    "    public static double sum(double a, double b) {\n",
    "        System.out.println(\"sum 2 double called\");\n",
    "        return a + b;\n",
    "    }\n",
    "\n",
    "    public static double sum(double a, double b, double c) {\n",
    "        System.out.println(\"sum 3 double called\");\n",
    "        return a + sum(b,c);\n",
    "    }\n",
    "\n",
    "    public static int sum(int a, int b) {\n",
    "        System.out.println(\"sum 2 int called\");\n",
    "        return a + b;\n",
    "    }\n",
    "\n",
    "    public static int sum(int a, int b, int c) {\n",
    "        System.out.println(\"sum 3 int called\");\n",
    "        return a + sum(b,c);\n",
    "    }\n",
    "}"
   ]
  },
  {
   "cell_type": "code",
   "execution_count": 17,
   "metadata": {},
   "outputs": [
    {
     "name": "stdout",
     "output_type": "stream",
     "text": [
      "sum 2 int called\n",
      "sum(1, 2): 3\n"
     ]
    },
    {
     "data": {
      "text/plain": [
       "null"
      ]
     },
     "execution_count": 17,
     "metadata": {},
     "output_type": "execute_result"
    }
   ],
   "source": [
    "System.out.println(\"sum(1, 2): \" + Operations.sum(1, 2));"
   ]
  },
  {
   "cell_type": "code",
   "execution_count": 18,
   "metadata": {},
   "outputs": [
    {
     "name": "stdout",
     "output_type": "stream",
     "text": [
      "sum 2 double called\n",
      "sum(1, 2.0): 3.0\n"
     ]
    },
    {
     "data": {
      "text/plain": [
       "null"
      ]
     },
     "execution_count": 18,
     "metadata": {},
     "output_type": "execute_result"
    }
   ],
   "source": [
    "System.out.println(\"sum(1, 2.0): \" + Operations.sum(1, 2.0));"
   ]
  },
  {
   "cell_type": "code",
   "execution_count": 19,
   "metadata": {},
   "outputs": [
    {
     "name": "stdout",
     "output_type": "stream",
     "text": [
      "sum 3 int called\n",
      "sum 2 int called\n",
      "sum(1, 2, 5): 8\n"
     ]
    },
    {
     "data": {
      "text/plain": [
       "null"
      ]
     },
     "execution_count": 19,
     "metadata": {},
     "output_type": "execute_result"
    }
   ],
   "source": [
    "System.out.println(\"sum(1, 2, 5): \" + Operations.sum(1, 2, 5));"
   ]
  },
  {
   "cell_type": "code",
   "execution_count": 20,
   "metadata": {},
   "outputs": [
    {
     "name": "stdout",
     "output_type": "stream",
     "text": [
      "sum 3 double called\n",
      "sum 2 double called\n",
      "sum(1, 2.0, 5): 8.0\n"
     ]
    },
    {
     "data": {
      "text/plain": [
       "null"
      ]
     },
     "execution_count": 20,
     "metadata": {},
     "output_type": "execute_result"
    }
   ],
   "source": [
    "System.out.println(\"sum(1, 2.0, 5): \" + Operations.sum(1, 2.0, 5));"
   ]
  },
  {
   "cell_type": "markdown",
   "metadata": {},
   "source": [
    "## Packages"
   ]
  },
  {
   "cell_type": "code",
   "execution_count": null,
   "metadata": {},
   "outputs": [],
   "source": [
    "package mypkg;\n",
    "\n",
    "public class A {\n",
    "    public String toString() {\n",
    "        return \"Class A\";\n",
    "    }\n",
    "}"
   ]
  },
  {
   "cell_type": "code",
   "execution_count": null,
   "metadata": {},
   "outputs": [],
   "source": [
    "package mypkg;\n",
    "\n",
    "public class B {\n",
    "    public String toString() {\n",
    "        return \"Class B\";\n",
    "    }\n",
    "}"
   ]
  },
  {
   "cell_type": "markdown",
   "metadata": {},
   "source": [
    "The package name is part of the class name"
   ]
  },
  {
   "cell_type": "code",
   "execution_count": null,
   "metadata": {},
   "outputs": [],
   "source": [
    "mypkg.A a = new mypkg.A();\n",
    "\n",
    "System.out.println(a);"
   ]
  },
  {
   "cell_type": "code",
   "execution_count": null,
   "metadata": {},
   "outputs": [],
   "source": [
    "import mypkg.*;\n",
    "\n",
    "A b = new A();\n",
    "\n",
    "System.out.println(b);"
   ]
  },
  {
   "cell_type": "markdown",
   "metadata": {},
   "source": [
    "## ISO 9126 six quality characteristics"
   ]
  },
  {
   "cell_type": "markdown",
   "metadata": {},
   "source": [
    "- **Functionality**: set of attributes that bear on the existence of a set of functions  and their specified properties.\n",
    "    - Suitability\n",
    "    - Accuracy\n",
    "    - Interoperability\n",
    "    - Security\n",
    "    - Functionality compliance\n",
    "\n",
    "- **Reliability**: set of attributes that bear on the capability of software to maintain its level of performance under stated conditions for a stated period of time.\n",
    "    - Maturity\n",
    "    - Fault Tolerance\n",
    "    - Recoverability\n",
    "    - Reliability compliance\n",
    "\n",
    "- **Usability**: set of attributes that bear on the effort needed for use, and on the individual assessment of such use, by a stated or implied set of users.\n",
    "    - Understandability\n",
    "    - Learnability\n",
    "    - Operability\n",
    "    - Attractiveness\n",
    "    - Usability compliance\n",
    "\n",
    "- **Efficiency**: set of attributes that bear on the relationship between the level of performance of the software and the amount of resources used, under stated conditions.\n",
    "    - Time behaviour\n",
    "    - Resource utilization\n",
    "    - Efficiency compliance\n",
    "\n",
    "- **Maintainability**: set of attributes that bear on the effort needed to make specified modifications.\n",
    "    - Analysability\n",
    "    - Changeability\n",
    "    - Stability\n",
    "    - Testability\n",
    "    - Maintainability compliance\n",
    "\n",
    "- **Portability**: set of attributes that bear on the ability of software to be transferred from one environment.\n",
    "    - Adaptability\n",
    "    - Installability\n",
    "    - Co-existence\n",
    "    - Replaceability\n",
    "    - Portability compliance"
   ]
  },
  {
   "cell_type": "markdown",
   "metadata": {},
   "source": [
    "## Inheritance"
   ]
  },
  {
   "cell_type": "markdown",
   "metadata": {},
   "source": [
    "- Abstract entities serve as base definitions onto which we can build more concrete entities. \n",
    "\n",
    "- The higher-level entities are *parent*, *base* or *super* classes/types.\n",
    "\n",
    "- The lower-level entities built from high-level entities are *child*, *derived* or *sub* classes/types.\n",
    "\n",
    "Inheritance is known as **is-a** relationship between child and parent class.\n",
    "\n",
    "Inheritance is a process of defining a new class based on an existing class by extending its common data members (state) and methods (behaviour)."
   ]
  },
  {
   "cell_type": "markdown",
   "metadata": {},
   "source": [
    "![](http://www.plantuml.com/plantuml/png/TOuz3i8m38Ltdy8IIwkI2rGC5H8ZB3s1IwsgKkAYE1aguExGdnGOMD_pv-zL6iY7w2oStCqE8pCU7iOOF9DGnnxWQaaLj_OEfczBx2M04N9SOXryBnt2JicI7qjiXzXO1YWIb2qd-wN8eUWuNDvibYTwZkgPdyBrGw5RcD0df4Nhm6bGCqZK3xKslzOa_sywJb--H1LB6vrz0G00)"
   ]
  },
  {
   "cell_type": "code",
   "execution_count": 23,
   "metadata": {
    "code_folding": []
   },
   "outputs": [
    {
     "data": {
      "text/plain": [
       "null"
      ]
     },
     "execution_count": 23,
     "metadata": {},
     "output_type": "execute_result"
    }
   ],
   "source": [
    "class Employee\n",
    "{\n",
    "    private static int sequence = 0;\n",
    "    private final int id;\n",
    "    private final String name;\n",
    "    protected double salary;\n",
    "    \n",
    "    public Employee(String name, double salary) {\n",
    "        this.id = ++sequence;\n",
    "        this.name = name;\n",
    "        this.salary = salary;\n",
    "    }\n",
    "    \n",
    "    public String getName() { return name; }\n",
    "\n",
    "    public double getSalary() { return salary; }\n",
    "    \n",
    "    public void setSalary(double newSalary) { this.salary = newSalary; }    \n",
    "}"
   ]
  },
  {
   "cell_type": "code",
   "execution_count": 24,
   "metadata": {},
   "outputs": [
    {
     "data": {
      "text/plain": [
       "null"
      ]
     },
     "execution_count": 24,
     "metadata": {},
     "output_type": "execute_result"
    }
   ],
   "source": [
    "class Manager extends Employee\n",
    "{\n",
    "    private double bonus;\n",
    "    \n",
    "    public Manager(String name, double salary, double bonus) {\n",
    "        super(name, salary);\n",
    "        this.bonus = bonus;\n",
    "    }\n",
    "    \n",
    "    @Override\n",
    "    public double getSalary() {\n",
    "        return super.getSalary() + bonus;\n",
    "    }\n",
    "    \n",
    "    public void setBonus(double bonus) { this.bonus = bonus; }\n",
    "}"
   ]
  },
  {
   "cell_type": "markdown",
   "metadata": {},
   "source": [
    "### Polymorphism y Dynamic binding"
   ]
  },
  {
   "cell_type": "code",
   "execution_count": 25,
   "metadata": {},
   "outputs": [
    {
     "name": "stdout",
     "output_type": "stream",
     "text": [
      "John Smith 52000.0\n",
      "John Smith 52000.0\n",
      "John Smith 52000.0\n"
     ]
    },
    {
     "data": {
      "text/plain": [
       "null"
      ]
     },
     "execution_count": 25,
     "metadata": {},
     "output_type": "execute_result"
    }
   ],
   "source": [
    "Manager mng = new Manager(\"John Smith\", 50000, 2000);\n",
    "\n",
    "System.out.println(mng.getName() +\" \"+mng.getSalary());\n",
    "\n",
    "Employee emp = mng;\n",
    "\n",
    "System.out.println(emp.getName() +\" \"+emp.getSalary());\n",
    "\n",
    "Manager mng2 = (Manager) emp;\n",
    "\n",
    "System.out.println(mng2.getName() +\" \"+mng2.getSalary());\n",
    "\n"
   ]
  },
  {
   "cell_type": "code",
   "execution_count": 26,
   "metadata": {},
   "outputs": [
    {
     "name": "stdout",
     "output_type": "stream",
     "text": [
      "Scott Tiger 30000.0\n"
     ]
    },
    {
     "ename": "",
     "evalue": "",
     "output_type": "error",
     "traceback": [
      "\u001b[1;31m\u001b[0;0m",
      "\u001b[1;31m\u001b[0;0m",
      "\u001b[1;31mManager mng = emp;\u001b[0;0m",
      "\u001b[1;31mincompatible types: Employee cannot be converted to Manager\u001b[0;0m"
     ]
    }
   ],
   "source": [
    "Employee emp = new Employee(\"Scott Tiger\", 30000);\n",
    "\n",
    "System.out.println(emp.getName() +\" \" +emp.getSalary());\n",
    "\n",
    "Manager mng = emp;\n",
    "\n",
    "Manager mng = (Manager) emp;\n",
    "\n",
    "System.out.println(mng.getName() +\" \"+mng.getSalary());"
   ]
  },
  {
   "cell_type": "markdown",
   "metadata": {},
   "source": [
    "**polymorphism** is the ability by which, we can create functions or reference variables which behaves differently in different programmatic context.\n",
    "\n",
    "- Static Polymorphism\n",
    "- Dynamic Polymorphism"
   ]
  },
  {
   "cell_type": "markdown",
   "metadata": {},
   "source": [
    "### Types of inheritance"
   ]
  },
  {
   "cell_type": "markdown",
   "metadata": {},
   "source": [
    "| Single Inheritance |  Hierarchical Inheritance |  Multi-level Inheritance | Multiple Inheritance |\n",
    "| ------------------ | ------------------ | ------------------ | ------------------ |\n",
    "| | | | (Not supported for Java using only classes) |\n",
    "| ![](http://www.plantuml.com/plantuml/png/SoWkIImgAStDuN9AB4vLiAdHrTLLS4ajoYnBJU5oICrB0Ke10000) | ![](http://www.plantuml.com/plantuml/png/SoWkIImgAStDuN9AB4vLiAdHrTLLS4ajoYnBJN748kR4vP2Qbm9K3m00) | ![](http://www.plantuml.com/plantuml/png/SoWkIImgAStDuN9AB4vLiAdHrTLLS4ajoYnBJN7aWZ5GnPsu75BpKe1w0000) | ![](http://www.plantuml.com/plantuml/png/SoWkIImgAStDuN9AB4vrLB2fqTNLLN19BSeiIqq1YpcXYJcavgK0rGC0) |"
   ]
  },
  {
   "cell_type": "markdown",
   "metadata": {},
   "source": [
    "#### Inheritance case\n",
    "Consider four classes (A, B, C, and D) and the following four name definitions:\n",
    "\n",
    "    A a; \n",
    "    B b;\n",
    "    C c;\n",
    "    D d;\n",
    "\n",
    "Given the following assignments are **legal**,\n",
    "\n",
    "    b = d;\n",
    "    b = c;\n",
    "    a = d;\n",
    "\n",
    "and that the following statements are **illegal**\n",
    "\n",
    "    a = b;\n",
    "    a = c;\n",
    "    c = a;\n",
    "\n",
    "What can we deduce about the relationship between the classes A, B, C, and D?"
   ]
  },
  {
   "cell_type": "markdown",
   "metadata": {},
   "source": [
    "Based on the **legal** assignments:\n",
    "\n",
    "- *super class* of D is B\n",
    "- *super class* of C is B\n",
    "- *super class* of D is A\n",
    "\n",
    "Possible representation\n",
    "![](http://www.plantuml.com/plantuml/png/SoWkIImgAStDuN9IiAdHrTLLSE62Cvsvk1mHeWwfUIb0XG00)\n",
    "\n",
    "However, we know that in Java *multiple inheritance* is not supported at the class level, thus, possible inheritance are:\n",
    "\n",
    "|         Option 1  |   | Option 2           |   | Option 3 |\n",
    "| ---------------------- | - | ----------------------- | - | ------------- |\n",
    "| ![](http://www.plantuml.com/plantuml/png/SoWkIImgAStDuN9IiAdHrTLLSE62Cvsvk1oXJ2SkXzIy5A0w0000)  | |![](http://www.plantuml.com/plantuml/png/SoWkIImgAStDuN9KiAdHrTLLSE7YSe8odRcudA5CHow7rBmKe3e0) | | ![](http://www.plantuml.com/plantuml/png/SoWkIImgAStDuN9KiAdHrTLLSE7YSe8odH5CHow7rBmKe3e0)  |\n",
    "\n",
    "Considering the **illegal** assignments:\n",
    "\n",
    "- A is *not a supper class* of B\n",
    "- A is *not a supper class* of C\n",
    "- C is *not a supper class* of A\n",
    "\n",
    "Option 1 is wrong since A is *not a supper class* of B, and A is *not a supper class* of C.\n",
    "\n",
    "Option 2 is wrong since C is *not a supper class* of A.\n",
    "\n",
    "Thus, the correct class hierarchy is **_Option 3_**."
   ]
  },
  {
   "cell_type": "markdown",
   "metadata": {},
   "source": [
    "### Abstract Classes"
   ]
  },
  {
   "cell_type": "markdown",
   "metadata": {},
   "source": [
    "- An **Abstract Class** is a generic class used as a basis for creating specific objects that conform to its *protocol*, or the set of operations it supports. \n",
    "- Abstract classes are **not instantiated directly**, but they can be subclassed.\n",
    "- Abstract classes are useful when creating hierarchies of classes that model reality because they make it possible to specify an invariant level of functionality in some methods, but leave the implementation of other methods until a specific implementation of that class (a derived class) is needed.\n"
   ]
  },
  {
   "cell_type": "code",
   "execution_count": 27,
   "metadata": {},
   "outputs": [
    {
     "data": {
      "text/plain": [
       "null"
      ]
     },
     "execution_count": 27,
     "metadata": {},
     "output_type": "execute_result"
    }
   ],
   "source": [
    "abstract class Shape {\n",
    "  private String name;\n",
    "  private String color;\n",
    "\n",
    "  public Shape(String name, String color) {\n",
    "    this.name = name;\n",
    "    this.color = color;\n",
    "  }\n",
    "\n",
    "  public String getName() { return name; }\n",
    "  public String getColor() { return color; }\n",
    "  public void setColor(String color) { this.color = color; }\n",
    "\n",
    "  public String toString() { return name+\" (\"+color+\")\"; }\n",
    "    \n",
    "  public abstract double area();\n",
    "  public abstract double perimeter();\n",
    "  public abstract double[] dimensions();\n",
    "}"
   ]
  },
  {
   "cell_type": "code",
   "execution_count": 28,
   "metadata": {},
   "outputs": [
    {
     "ename": "Shape fig = new Shape(\"Figura\",\"Red\");",
     "evalue": "Shape fig = new Shape(\"Figura\",\"Red\");",
     "output_type": "error",
     "traceback": [
      "\u001b[1;31mShape fig = new Shape(\"Figura\",\"Red\");\u001b[0;0m",
      "\u001b[1;31mShape is abstract; cannot be instantiated\u001b[0;0m"
     ]
    }
   ],
   "source": [
    "Shape fig = new Shape(\"Figura\",\"Red\");"
   ]
  },
  {
   "cell_type": "markdown",
   "metadata": {},
   "source": [
    "- An abstract method is a method that:\n",
    "    - It is not specified in the current class.  \n",
    "    - Must be implemented in non-abstract subclasses.\n",
    "\n",
    "- An abstract class is a class that may contains one or more abstract methods"
   ]
  },
  {
   "cell_type": "code",
   "execution_count": 29,
   "metadata": {},
   "outputs": [
    {
     "data": {
      "text/plain": [
       "null"
      ]
     },
     "execution_count": 29,
     "metadata": {},
     "output_type": "execute_result"
    }
   ],
   "source": [
    "class Rectangle extends Shape\n",
    "{\n",
    "  private double height;\n",
    "  private double width;\n",
    "\n",
    "  public Rectangle(String name, double h, double w)\n",
    "  {\n",
    "    super(name, \"Blue\");\n",
    "    height = h;\n",
    "    width = w;\n",
    "  }\n",
    "\n",
    "  public double area() { return height*width; }\n",
    "\n",
    "  public double perimeter() { return 2*height + 2*width; }\n",
    "\n",
    "  public double[] dimensions() { \n",
    "    double[] dim = { height, width };\n",
    "    return dim; \n",
    "  }\n",
    "}\n",
    "\n",
    "class Square extends Rectangle\n",
    "{\n",
    "  public Square(String name, double side)\n",
    "  {\n",
    "    super(name, side, side);\n",
    "    setColor(\"Purple\");\n",
    "  }\n",
    "}\n"
   ]
  },
  {
   "cell_type": "code",
   "execution_count": 30,
   "metadata": {},
   "outputs": [
    {
     "name": "stdout",
     "output_type": "stream",
     "text": [
      "fig1.class: class REPL.$JShell$142$Rectangle\n",
      "fig2.class: class REPL.$JShell$143$Square\n",
      "rect: Square (Purple)\n"
     ]
    },
    {
     "data": {
      "text/plain": [
       "null"
      ]
     },
     "execution_count": 30,
     "metadata": {},
     "output_type": "execute_result"
    }
   ],
   "source": [
    "Shape fig1 = new Rectangle(\"Rectangle\", 10, 13);\n",
    "Shape fig2 = new Square(\"Square\", 8);\n",
    "\n",
    "System.out.println(\"fig1.class: \"+fig1.getClass());\n",
    "System.out.println(\"fig2.class: \"+fig2.getClass());\n",
    "\n",
    "// Rectangle rect = fig2; //Shape cannot be converted to Rectangle\n",
    "\n",
    "Rectangle rect = (Square)fig2;\n",
    "System.out.println(\"rect: \"+rect);\n"
   ]
  },
  {
   "cell_type": "markdown",
   "metadata": {},
   "source": [
    "## Interfaces"
   ]
  },
  {
   "cell_type": "markdown",
   "metadata": {},
   "source": [
    "- **Interface** is the mechanism that Java uses to deal with *multiple inheritance*.\n",
    "\n",
    "- Interfaces are a way to describe what classes should do without specifying how they should do it. \n",
    "\n",
    "- An Interface define a contract, which implementing classes need to honor.\n",
    "\n",
    "- A class implements an interface, thereby inheriting the abstract methods of the interface.\n",
    "\n",
    "- Along with abstract methods, an interface may also contain constants, _default methods_, static methods, and nested types. Method bodies exist _only for default methods_ and static methods.\n"
   ]
  },
  {
   "cell_type": "markdown",
   "metadata": {},
   "source": [
    "- A **class** describes the *attributes* (state) and *methods* (behaviour) of an object. \n",
    "\n",
    "- An **interface** contains *behaviors* that a class implements.\n",
    "\n",
    "- Unless the class that implements the interface is *abstract*, all the methods of the interface need to be defined in the class."
   ]
  },
  {
   "cell_type": "markdown",
   "metadata": {},
   "source": [
    "![](http://www.plantuml.com/plantuml/png/TL7DJiGW4BxFKt3Sfj87s1YpYHTFcjYZyJ1jPriIe2iCyR3kkmkjiAknf-7x6V9zSF2CZeFHq4vu8d7_9QKKhzGpsb4Jv5DMse-0xfPkckP1FA5lrK0UG5acTyIUhjmPR30TkPVZWdVLNaGNN02my-omPz5hz5ui2Q9TMZIq5oqxPKUG_QndLo3KYsstmhjrL52FnCznRLSLPw8Uq-ujvpDN5iyvnKMW8qpcOGwTfb_IYPmo5Bjjw4DKhLUpzLV3stigkNOh3vRwVQg1ftADd4YD4nSCTJQNbgloCsBclq7_JRSHgTxuZGFP8HZz3G00)"
   ]
  },
  {
   "cell_type": "code",
   "execution_count": 31,
   "metadata": {},
   "outputs": [
    {
     "data": {
      "text/plain": [
       "null"
      ]
     },
     "execution_count": 31,
     "metadata": {},
     "output_type": "execute_result"
    }
   ],
   "source": [
    "interface HasSides\n",
    "{\n",
    "    int numberOfSides();\n",
    "}"
   ]
  },
  {
   "cell_type": "code",
   "execution_count": 32,
   "metadata": {},
   "outputs": [
    {
     "data": {
      "text/plain": [
       "null"
      ]
     },
     "execution_count": 32,
     "metadata": {},
     "output_type": "execute_result"
    }
   ],
   "source": [
    "class Rectangle extends Shape implements HasSides\n",
    "{\n",
    "  private double height;\n",
    "  private double width;\n",
    "\n",
    "  public Rectangle(String name, double h, double w)\n",
    "  {\n",
    "    super(name, \"Blue\");\n",
    "    height = h;\n",
    "    width = w;\n",
    "  }\n",
    "\n",
    "  public double area() { return height*width; }\n",
    "\n",
    "  public double perimeter() { return 2*height + 2*width; }\n",
    "\n",
    "  public double[] dimensions() { \n",
    "    double[] dim = { height, width };\n",
    "    return dim; \n",
    "  }\n",
    "  \n",
    "  public int numberOfSides() { return 4; }\n",
    "}"
   ]
  },
  {
   "cell_type": "code",
   "execution_count": 33,
   "metadata": {},
   "outputs": [
    {
     "data": {
      "text/plain": [
       "null"
      ]
     },
     "execution_count": 33,
     "metadata": {},
     "output_type": "execute_result"
    }
   ],
   "source": [
    "class Square extends Rectangle\n",
    "{\n",
    "  public Square(String name, double side)\n",
    "  {\n",
    "    super(name, side, side);\n",
    "    setColor(\"Purple\");\n",
    "  }\n",
    "}"
   ]
  },
  {
   "cell_type": "code",
   "execution_count": 35,
   "metadata": {},
   "outputs": [
    {
     "name": "stdout",
     "output_type": "stream",
     "text": [
      "Square (Purple) # of sides: 4\n"
     ]
    },
    {
     "data": {
      "text/plain": [
       "null"
      ]
     },
     "execution_count": 35,
     "metadata": {},
     "output_type": "execute_result"
    }
   ],
   "source": [
    "Shape fig1 = new Rectangle(\"Rectangle\", 10, 13);\n",
    "Rectangle fig2 = new Square(\"Square\", 8);\n",
    "\n",
    "// System.out.println(fig1+\" # of sides: \"+ fig1.numberOfSides()); // cannot find symbol numberOfSides\n",
    "\n",
    "HasSides fig3 = fig2;\n",
    "// System.out.println(fig3+\" # of sides: \"+ fig3.area());\n",
    "\n",
    "System.out.println(fig3+\" # of sides: \"+ fig3.numberOfSides());\n"
   ]
  },
  {
   "cell_type": "markdown",
   "metadata": {},
   "source": [
    "The **Interface Segregation Principle** states that clients should not be forced to implement interfaces they don't use.\n",
    "\n",
    "Instead of one fat interface many small interfaces are preferred based on groups of methods, each one serving one submodule."
   ]
  },
  {
   "cell_type": "markdown",
   "metadata": {},
   "source": [
    "## Exception Handling"
   ]
  },
  {
   "cell_type": "markdown",
   "metadata": {},
   "source": [
    "_Run-time errors_ can occur because of poor coding, or because of problems interacting with user or external data content. Such errors lead to the **throwing of exceptions**.\n",
    "\n",
    "- An **exception** is a situation when the program behaves in an unexpected manner usually indicating an error condition.\n",
    "\n",
    "- An Exception is an *unwanted event* that *interrupts the normal flow* of the program. When an exception occurs program execution gets terminated. In such cases we get a system generated error message.\n",
    "\n",
    "Exceptions can be **caught** at code level as a way of trying to deal with the cause of the exception.\n",
    "\n",
    "If an exception remains uncaught, the program will terminate with an *uncaught exception error*."
   ]
  },
  {
   "cell_type": "code",
   "execution_count": null,
   "metadata": {},
   "outputs": [],
   "source": [
    "Integer n = 7;\n",
    "Integer res = n/0;"
   ]
  },
  {
   "cell_type": "code",
   "execution_count": null,
   "metadata": {},
   "outputs": [],
   "source": [
    "Double n = 7.0;\n",
    "Double res = n/0;\n",
    "System.out.println(res);"
   ]
  },
  {
   "cell_type": "code",
   "execution_count": 38,
   "metadata": {},
   "outputs": [
    {
     "name": "stdout",
     "output_type": "stream",
     "text": [
      "I can divide by zero\n"
     ]
    },
    {
     "data": {
      "text/plain": [
       "null"
      ]
     },
     "execution_count": 38,
     "metadata": {},
     "output_type": "execute_result"
    }
   ],
   "source": [
    "try {\n",
    "    Integer n = 7;\n",
    "    Integer res = n/0;\n",
    "}\n",
    "catch (Exception e) {\n",
    "    System.out.println(\"I can divide by zero\");\n",
    "}"
   ]
  },
  {
   "cell_type": "code",
   "execution_count": 39,
   "metadata": {},
   "outputs": [
    {
     "name": "stdout",
     "output_type": "stream",
     "text": [
      "I can divide by zero\n",
      "Done\n"
     ]
    },
    {
     "data": {
      "text/plain": [
       "null"
      ]
     },
     "execution_count": 39,
     "metadata": {},
     "output_type": "execute_result"
    }
   ],
   "source": [
    "try {\n",
    "    Integer n = 7;\n",
    "    Integer res = n/0;\n",
    "    int[] data = new int[5];\n",
    "    data[10] = 1;\n",
    "}\n",
    "catch (ArithmeticException e) {\n",
    "    System.out.println(\"I can divide by zero\");\n",
    "}\n",
    "catch (Exception e) {\n",
    "    System.out.println(\"Error in the code\");\n",
    "    System.out.println(e);\n",
    "}\n",
    "finally {\n",
    "    System.out.println(\"Done\");\n",
    "}"
   ]
  },
  {
   "cell_type": "code",
   "execution_count": 40,
   "metadata": {},
   "outputs": [
    {
     "name": "stdout",
     "output_type": "stream",
     "text": [
      "Error in the code\n",
      "java.lang.ArrayIndexOutOfBoundsException: Index 10 out of bounds for length 5\n"
     ]
    },
    {
     "data": {
      "text/plain": [
       "null"
      ]
     },
     "execution_count": 40,
     "metadata": {},
     "output_type": "execute_result"
    }
   ],
   "source": [
    "try {\n",
    "//     Integer n = 7;\n",
    "//     Integer res = n/0;\n",
    "    int[] data = new int[5];\n",
    "    data[10] = 1;\n",
    "}\n",
    "catch (ArithmeticException e) {\n",
    "    System.out.println(\"I can divide by zero\");\n",
    "}\n",
    "catch (Exception e) {\n",
    "    System.out.println(\"Error in the code\");\n",
    "    System.out.println(e);\n",
    "}"
   ]
  },
  {
   "cell_type": "markdown",
   "metadata": {},
   "source": [
    "### User defined Exceptions"
   ]
  },
  {
   "cell_type": "code",
   "execution_count": 41,
   "metadata": {},
   "outputs": [
    {
     "data": {
      "text/plain": [
       "null"
      ]
     },
     "execution_count": 41,
     "metadata": {},
     "output_type": "execute_result"
    }
   ],
   "source": [
    "class NonPositive extends Exception\n",
    "{\n",
    "    public NonPositive(String message) {\n",
    "        super(message);\n",
    "    }\n",
    "}"
   ]
  },
  {
   "cell_type": "markdown",
   "metadata": {},
   "source": [
    "### Exception propagation"
   ]
  },
  {
   "cell_type": "code",
   "execution_count": 42,
   "metadata": {},
   "outputs": [
    {
     "data": {
      "text/plain": [
       "null"
      ]
     },
     "execution_count": 42,
     "metadata": {},
     "output_type": "execute_result"
    }
   ],
   "source": [
    "class PositiveInt\n",
    "{\n",
    "    private int value;\n",
    "    \n",
    "    PositiveInt(int n) throws Exception\n",
    "    {\n",
    "        if (n<0) {\n",
    "            throw new NonPositive(\"Given number is not greater or equal to zero\");\n",
    "        }\n",
    "        value = n;\n",
    "    }\n",
    "    \n",
    "    public int getValue() { return value; }\n",
    "    \n",
    "    // Without throws ... compiler error unreported exception java.lang.Exception; must be caught or declared to be thrown\n",
    "//     public PositiveInt minus(PositiveInt o) \n",
    "    public PositiveInt minus(PositiveInt o) throws Exception \n",
    "    {\n",
    "        return new PositiveInt(value - o.getValue());\n",
    "    }\n",
    "}"
   ]
  },
  {
   "cell_type": "code",
   "execution_count": 43,
   "metadata": {},
   "outputs": [
    {
     "data": {
      "text/plain": [
       "null"
      ]
     },
     "execution_count": 43,
     "metadata": {},
     "output_type": "execute_result"
    }
   ],
   "source": [
    "try {\n",
    "    PositiveInt a = new PositiveInt(3);\n",
    "} catch (Exception e) {\n",
    "    System.out.println(e);\n",
    "}"
   ]
  },
  {
   "cell_type": "code",
   "execution_count": 44,
   "metadata": {},
   "outputs": [
    {
     "name": "stdout",
     "output_type": "stream",
     "text": [
      "REPL.$JShell$159$NonPositive: Given number is not greater or equal to zero\n"
     ]
    },
    {
     "data": {
      "text/plain": [
       "null"
      ]
     },
     "execution_count": 44,
     "metadata": {},
     "output_type": "execute_result"
    }
   ],
   "source": [
    "try {\n",
    "    PositiveInt a = new PositiveInt(-3);\n",
    "} catch (Exception e) {\n",
    "    System.out.println(e);\n",
    "}"
   ]
  },
  {
   "cell_type": "code",
   "execution_count": 45,
   "metadata": {},
   "outputs": [
    {
     "data": {
      "text/plain": [
       "null"
      ]
     },
     "execution_count": 45,
     "metadata": {},
     "output_type": "execute_result"
    }
   ],
   "source": [
    "class Operations\n",
    "{\n",
    "    public static int subtract(int a, int b) throws Exception\n",
    "    {\n",
    "        PositiveInt x = new PositiveInt(a);\n",
    "        PositiveInt y = new PositiveInt(b);\n",
    "        return x.minus(y).getValue();\n",
    "    }    \n",
    "}"
   ]
  },
  {
   "cell_type": "code",
   "execution_count": 46,
   "metadata": {},
   "outputs": [
    {
     "name": "stdout",
     "output_type": "stream",
     "text": [
      "substract(7,5):2\n"
     ]
    },
    {
     "data": {
      "text/plain": [
       "null"
      ]
     },
     "execution_count": 46,
     "metadata": {},
     "output_type": "execute_result"
    }
   ],
   "source": [
    "System.out.println(\"substract(7,5):\" + Operations.subtract(7,5));"
   ]
  },
  {
   "cell_type": "code",
   "execution_count": 47,
   "metadata": {},
   "outputs": [
    {
     "name": "stdout",
     "output_type": "stream",
     "text": [
      "Oops:REPL.$JShell$159$NonPositive: Given number is not greater or equal to zero\n",
      "Ok\n"
     ]
    },
    {
     "data": {
      "text/plain": [
       "null"
      ]
     },
     "execution_count": 47,
     "metadata": {},
     "output_type": "execute_result"
    }
   ],
   "source": [
    "// Exception propagated from the PositiveInt constructor until the end of the execution\n",
    "try {\n",
    "    System.out.println(\"substract(5,7):\" + Operations.subtract(5,7));     \n",
    "}\n",
    "catch (Exception e) {\n",
    "    System.out.println(\"Oops:\"+e);\n",
    "}\n",
    "System.out.println(\"Ok\");"
   ]
  },
  {
   "cell_type": "markdown",
   "metadata": {},
   "source": [
    "<img src=\"images/error_handling_hierarchy.jpg\" width=\"600\"/>"
   ]
  },
  {
   "cell_type": "markdown",
   "metadata": {},
   "source": [
    "## Generics"
   ]
  },
  {
   "cell_type": "markdown",
   "metadata": {},
   "source": [
    "*Generics* enable types (classes and interfaces) to be parameters when defining classes, interfaces and methods."
   ]
  },
  {
   "cell_type": "code",
   "execution_count": 48,
   "metadata": {
    "code_folding": []
   },
   "outputs": [
    {
     "data": {
      "text/plain": [
       "null"
      ]
     },
     "execution_count": 48,
     "metadata": {},
     "output_type": "execute_result"
    }
   ],
   "source": [
    "class Box<T>\n",
    "{\n",
    "    private T value;\n",
    "    \n",
    "    public Box(T value) { this.value = value; }\n",
    "    \n",
    "    public T getValue() { return value; }\n",
    "    \n",
    "    public void setValue(T value) { this.value = value; }\n",
    "    \n",
    "    @Override\n",
    "    public String toString() { return \"[\"+value+\"]\"; }\n",
    "}"
   ]
  },
  {
   "cell_type": "code",
   "execution_count": 49,
   "metadata": {},
   "outputs": [
    {
     "name": "stdout",
     "output_type": "stream",
     "text": [
      "b1: [45]\n"
     ]
    },
    {
     "data": {
      "text/plain": [
       "null"
      ]
     },
     "execution_count": 49,
     "metadata": {},
     "output_type": "execute_result"
    }
   ],
   "source": [
    "Box<Integer> b1 = new Box(45);\n",
    "System.out.println(\"b1: \"+b1);"
   ]
  },
  {
   "cell_type": "code",
   "execution_count": 50,
   "metadata": {},
   "outputs": [
    {
     "name": "stdout",
     "output_type": "stream",
     "text": [
      "b2: [Rectangle (Blue)]\n"
     ]
    },
    {
     "data": {
      "text/plain": [
       "null"
      ]
     },
     "execution_count": 50,
     "metadata": {},
     "output_type": "execute_result"
    }
   ],
   "source": [
    "Box<Shape> b2 = new Box<Shape>(new Rectangle(\"Rectangle\",5,9));\n",
    "System.out.println(\"b2: \"+b2);"
   ]
  },
  {
   "cell_type": "code",
   "execution_count": 51,
   "metadata": {},
   "outputs": [
    {
     "ename": "",
     "evalue": "",
     "output_type": "error",
     "traceback": [
      "\u001b[1;31m\u001b[0;0m",
      "\u001b[1;31m\u001b[0;0m",
      "\u001b[1;31mbshape = brect;\u001b[0;0m",
      "\u001b[1;31mincompatible types: Box<Rectangle> cannot be converted to Box<Shape>\u001b[0;0m"
     ]
    }
   ],
   "source": [
    "Box<Rectangle> brect = new Box<Rectangle>(new Rectangle(\"Rectangle\",5,9));\n",
    "\n",
    "Box<Shape> bshape;\n",
    "\n",
    "bshape = brect;"
   ]
  },
  {
   "cell_type": "markdown",
   "metadata": {},
   "source": [
    "### Bounding Type Parameters"
   ]
  },
  {
   "cell_type": "code",
   "execution_count": 52,
   "metadata": {},
   "outputs": [
    {
     "ename": "class Compute",
     "evalue": "class Compute",
     "output_type": "error",
     "traceback": [
      "\u001b[1;31mclass Compute\u001b[0;0m",
      "\u001b[1;31m{\u001b[0;0m",
      "\u001b[1;31mpublic static <T> void area(T fig) {\u001b[0;0m",
      "\u001b[1;31mSystem.out.println(fig+\" area: \"+fig.area());\u001b[0;0m",
      "\u001b[1;31m}\u001b[0;0m",
      "\u001b[1;31m}\u001b[0;0m",
      "\u001b[1;31mcannot find symbol\u001b[0;0m",
      "\u001b[1;31m  symbol:   method area()\u001b[0;0m",
      "\u001b[1;31m  location: variable fig of type T\u001b[0;0m"
     ]
    }
   ],
   "source": [
    "class Compute\n",
    "{\n",
    "    public static <T> void area(T fig) {\n",
    "        System.out.println(fig+\" area: \"+fig.area());\n",
    "    }\n",
    "}"
   ]
  },
  {
   "cell_type": "code",
   "execution_count": 53,
   "metadata": {},
   "outputs": [
    {
     "data": {
      "text/plain": [
       "null"
      ]
     },
     "execution_count": 53,
     "metadata": {},
     "output_type": "execute_result"
    }
   ],
   "source": [
    "class Compute\n",
    "{\n",
    "    public static <T extends Shape> void area(T fig) {\n",
    "        System.out.println(fig+\" area: \"+fig.area());\n",
    "    }\n",
    "}"
   ]
  },
  {
   "cell_type": "code",
   "execution_count": 54,
   "metadata": {},
   "outputs": [
    {
     "name": "stdout",
     "output_type": "stream",
     "text": [
      "Rect1 (Blue) area: 20.0\n",
      "Square1 (Purple) area: 64.0\n"
     ]
    },
    {
     "data": {
      "text/plain": [
       "null"
      ]
     },
     "execution_count": 54,
     "metadata": {},
     "output_type": "execute_result"
    }
   ],
   "source": [
    "Rectangle rect = new Rectangle(\"Rect1\",5,4);\n",
    "Square sqr = new Square(\"Square1\",8);\n",
    "\n",
    "Compute.area(rect);\n",
    "Compute.area(sqr);"
   ]
  },
  {
   "cell_type": "code",
   "execution_count": 55,
   "metadata": {},
   "outputs": [
    {
     "data": {
      "text/plain": [
       "null"
      ]
     },
     "execution_count": 55,
     "metadata": {},
     "output_type": "execute_result"
    }
   ],
   "source": [
    "class Circle extends Shape\n",
    "{\n",
    "    private int radius;\n",
    "    \n",
    "    public Circle(String name, int radius) { \n",
    "        super(name,\"Yellow\");\n",
    "        this.radius = radius; \n",
    "    }\n",
    "    \n",
    "    public double area() { return Math.PI*radius*radius; }\n",
    "    \n",
    "    public double perimeter() { return 2*Math.PI*radius; }\n",
    "    \n",
    "    public double[] dimensions() { return new double[]{2*radius, 2*radius}; }\n",
    "}"
   ]
  },
  {
   "cell_type": "code",
   "execution_count": 56,
   "metadata": {},
   "outputs": [
    {
     "name": "stdout",
     "output_type": "stream",
     "text": [
      "Circle1 (Yellow)\n",
      "Circle1 (Yellow) area: 113.09733552923255\n"
     ]
    },
    {
     "data": {
      "text/plain": [
       "null"
      ]
     },
     "execution_count": 56,
     "metadata": {},
     "output_type": "execute_result"
    }
   ],
   "source": [
    "Circle circ = new Circle(\"Circle1\", 6);\n",
    "System.out.println(circ);\n",
    "\n",
    "Compute.area(circ);"
   ]
  },
  {
   "cell_type": "markdown",
   "metadata": {},
   "source": [
    "### Wildcards "
   ]
  },
  {
   "cell_type": "code",
   "execution_count": 57,
   "metadata": {},
   "outputs": [
    {
     "data": {
      "text/plain": [
       "null"
      ]
     },
     "execution_count": 57,
     "metadata": {},
     "output_type": "execute_result"
    }
   ],
   "source": [
    "class ComputeRaw\n",
    "{\n",
    "    public static void rawData(Box<?> box) {\n",
    "        System.out.println(box+\" value: \" + box.getValue());\n",
    "    }\n",
    "}"
   ]
  },
  {
   "cell_type": "code",
   "execution_count": 58,
   "metadata": {},
   "outputs": [
    {
     "ename": "",
     "evalue": "",
     "output_type": "error",
     "traceback": [
      "\u001b[1;31m\u001b[0;0m",
      "\u001b[1;31mComputeRaw.rawData(i);\u001b[0;0m",
      "\u001b[1;31mincompatible types: java.lang.Integer cannot be converted to Box<?>\u001b[0;0m"
     ]
    }
   ],
   "source": [
    "Box<Integer> b1 = new Box(5);\n",
    "Box<Shape> b2 = new Box<Shape>(new Rectangle(\"Rectangle\",5,9));\n",
    "\n",
    "Integer i = 8;\n",
    "ComputeRaw.rawData(i); // Compilation error\n",
    "ComputeRaw.rawData(b1);\n",
    "ComputeRaw.rawData(b2);"
   ]
  },
  {
   "cell_type": "markdown",
   "metadata": {},
   "source": [
    "### Bounded Wildcards\n",
    "\n",
    "![](http://www.plantuml.com/plantuml/png/SoWkIImgAStDuGhEI2n8LR2fqTNLLGXAJIv9p4lFIUNYWZ5XKi65fOb5G75avSwPHSb0jGwfUIb0am00)"
   ]
  },
  {
   "cell_type": "code",
   "execution_count": 59,
   "metadata": {},
   "outputs": [
    {
     "data": {
      "text/plain": [
       "null"
      ]
     },
     "execution_count": 59,
     "metadata": {},
     "output_type": "execute_result"
    }
   ],
   "source": [
    "class ComputeRaw2\n",
    "{\n",
    "    // Only accept a Box with a parameters extends from Shape\n",
    "    // Shape is the upper bound of the wildcard\n",
    "    public static void rawData(Box<? extends Shape> box) {\n",
    "        System.out.println(box+\" value: \" + box.getValue());\n",
    "    }\n",
    "}"
   ]
  },
  {
   "cell_type": "code",
   "execution_count": 60,
   "metadata": {},
   "outputs": [
    {
     "ename": "",
     "evalue": "",
     "output_type": "error",
     "traceback": [
      "\u001b[1;31m\u001b[0;0m",
      "\u001b[1;31m\u001b[0;0m",
      "\u001b[1;31mComputeRaw2.rawData(b1);\u001b[0;0m",
      "\u001b[1;31mincompatible types: Box<java.lang.Integer> cannot be converted to Box<? extends Shape>\u001b[0;0m"
     ]
    }
   ],
   "source": [
    "Box<Integer> b1 = new Box(5);\n",
    "Box<Rectangle> b2 = new Box<Rectangle>(new Rectangle(\"Rectangle\",5,9));\n",
    "Box<Circle> b3 = new Box<Circle>(new Circle(\"Circle1\", 6));\n",
    "\n",
    "ComputeRaw2.rawData(b1); // Compilation error\n",
    "ComputeRaw2.rawData(b2);\n",
    "ComputeRaw2.rawData(b3);"
   ]
  },
  {
   "cell_type": "code",
   "execution_count": 61,
   "metadata": {},
   "outputs": [
    {
     "data": {
      "text/plain": [
       "null"
      ]
     },
     "execution_count": 61,
     "metadata": {},
     "output_type": "execute_result"
    }
   ],
   "source": [
    "class ComputeRaw3\n",
    "{\n",
    "    // Only accept a Box with a parameters is a super class of Square\n",
    "    // Square is the lower bound of the wildcard\n",
    "    public static void rawData(Box<? super Square> box) {\n",
    "        System.out.println(box+\" value: \" + box.getValue());\n",
    "    }\n",
    "}"
   ]
  },
  {
   "cell_type": "code",
   "execution_count": 62,
   "metadata": {},
   "outputs": [
    {
     "name": "stdout",
     "output_type": "stream",
     "text": [
      "[Rectangle (Blue)] value: Rectangle (Blue)\n"
     ]
    },
    {
     "ename": "",
     "evalue": "",
     "output_type": "error",
     "traceback": [
      "\u001b[1;31m\u001b[0;0m",
      "\u001b[1;31mComputeRaw3.rawData(b2);\u001b[0;0m",
      "\u001b[1;31mincompatible types: Box<Circle> cannot be converted to Box<? super Square>\u001b[0;0m"
     ]
    }
   ],
   "source": [
    "Box<Rectangle> b1 = new Box<Rectangle>(new Rectangle(\"Rectangle\",5,9));\n",
    "Box<Circle> b2 = new Box<Circle>(new Circle(\"Circle1\", 6));\n",
    "Box<Square> b3 = new Box<Square>(new Square(\"Square1\", 9));\n",
    "\n",
    "ComputeRaw3.rawData(b1);\n",
    "ComputeRaw3.rawData(b2);  // Compilation error\n",
    "ComputeRaw3.rawData(b3);"
   ]
  },
  {
   "cell_type": "markdown",
   "metadata": {},
   "source": [
    "## Unit Testing"
   ]
  },
  {
   "cell_type": "markdown",
   "metadata": {},
   "source": [
    "### Levels of Testing\n",
    "\n",
    "- **Unit Testing**: individual units (a class) of a software are tested. The purpose is to validate that each unit of the software performs as designed.\n",
    "- **Integration Testing**: individual units are combined and tested as a group. The purpose of this level of testing is to expose faults in the interaction between integrated units.\n",
    "- **System Testing**: a complete (integrated) system is tested. The purpose of this test is to evaluate the system?s compliance with the specified requirements.\n",
    "- **Acceptance Testing**: a system is tested for acceptability. The purpose of this test is to evaluate the system?s compliance with the business requirements and assess whether it is acceptable for delivery.\n"
   ]
  },
  {
   "cell_type": "code",
   "execution_count": 63,
   "metadata": {},
   "outputs": [
    {
     "data": {
      "application/vnd.jupyter.widget-view+json": {
       "model_id": "",
       "version_major": 2,
       "version_minor": 0
      },
      "method": "display_data"
     },
     "metadata": {},
     "output_type": "display_data"
    },
    {
     "data": {
      "application/vnd.jupyter.widget-view+json": {
       "model_id": "517a228d-0e0b-451a-84b6-463caf4935b2",
       "version_major": 2,
       "version_minor": 0
      },
      "method": "display_data"
     },
     "metadata": {},
     "output_type": "display_data"
    }
   ],
   "source": [
    "%%classpath add mvn\n",
    "junit junit 4.12"
   ]
  },
  {
   "cell_type": "code",
   "execution_count": 64,
   "metadata": {},
   "outputs": [
    {
     "data": {
      "text/plain": [
       "null"
      ]
     },
     "execution_count": 64,
     "metadata": {},
     "output_type": "execute_result"
    }
   ],
   "source": [
    "class CharEater\n",
    "{\n",
    "  private char chr;\n",
    "  \n",
    "  public CharEater(char c) { chr = c; }\n",
    "    \n",
    "  public String eat(String str) {\n",
    "      String res = \"\";\n",
    "      for(char c : str.toCharArray()) {\n",
    "        if (chr == c)\n",
    "            res += \" \";\n",
    "        else\n",
    "            res += c;\n",
    "      }\n",
    "      return res;\n",
    "  }\n",
    "}"
   ]
  },
  {
   "cell_type": "code",
   "execution_count": 65,
   "metadata": {},
   "outputs": [
    {
     "name": "stdout",
     "output_type": "stream",
     "text": [
      "He  o, wor d!\n"
     ]
    },
    {
     "data": {
      "text/plain": [
       "null"
      ]
     },
     "execution_count": 65,
     "metadata": {},
     "output_type": "execute_result"
    }
   ],
   "source": [
    "CharEater l_eater = new CharEater('l');\n",
    "String res = l_eater.eat(\"Hello, world!\");\n",
    "System.out.println(res);"
   ]
  },
  {
   "cell_type": "code",
   "execution_count": 66,
   "metadata": {},
   "outputs": [
    {
     "data": {
      "text/plain": [
       "null"
      ]
     },
     "execution_count": 66,
     "metadata": {},
     "output_type": "execute_result"
    }
   ],
   "source": [
    "import static org.junit.Assert.*;\n",
    "import org.junit.*;\n",
    "\n",
    "public class CharEaterTest {\n",
    "    \n",
    "  CharEater charEater = null; \n",
    "  \n",
    "  @Before\n",
    "  public void resetCharEater() {\n",
    "    charEater = null;\n",
    "  }\n",
    "    \n",
    "  @Test\n",
    "  public void testCreation() {\n",
    "    charEater = new CharEater(' ');\n",
    "    assertNotNull(charEater);\n",
    "  }  \n",
    "    \n",
    "  @Test\n",
    "  public void testEat_l() {\n",
    "    charEater = new CharEater('l');\n",
    "    String res = charEater.eat(\"Hello, World!\");\n",
    "    assertEquals(\"He  o, Wor d!\", res);\n",
    "  }\n",
    "\n",
    "  @Test\n",
    "  public void testEat_space() {\n",
    "    charEater = new CharEater(' ');\n",
    "    String res = charEater.eat(\"Hello, World!\");\n",
    "    assertEquals(\"Hello, World!\", res);\n",
    "  }\n",
    "\n",
    "  @Test\n",
    "  public void testEat_nothing() {\n",
    "    charEater = new CharEater('a');\n",
    "    String res = charEater.eat(\"Hello, World!\");\n",
    "    assertEquals(\"Hello, World!\", res);\n",
    "  }\n",
    "}"
   ]
  },
  {
   "cell_type": "code",
   "execution_count": 67,
   "metadata": {},
   "outputs": [
    {
     "name": "stdout",
     "output_type": "stream",
     "text": [
      "....\n",
      "Time: 0.007\n",
      "\n",
      "OK (4 tests)\n",
      "\n"
     ]
    },
    {
     "data": {
      "text/plain": [
       "org.junit.runner.Result@37ddc38d"
      ]
     },
     "execution_count": 67,
     "metadata": {},
     "output_type": "execute_result"
    }
   ],
   "source": [
    "import org.junit.runner.JUnitCore;\n",
    "import org.junit.internal.TextListener;\n",
    "\n",
    "JUnitCore junit = new JUnitCore();\n",
    "junit.addListener(new TextListener(System.out));\n",
    "junit.run(CharEaterTest.class);"
   ]
  },
  {
   "cell_type": "code",
   "execution_count": 68,
   "metadata": {},
   "outputs": [
    {
     "data": {
      "text/plain": [
       "null"
      ]
     },
     "execution_count": 68,
     "metadata": {},
     "output_type": "execute_result"
    }
   ],
   "source": [
    "import static org.junit.Assert.*;\n",
    "import org.junit.*;\n",
    "\n",
    "public class AssertionTest\n",
    "{\n",
    "  @Before\n",
    "  public void beforeTest() {\n",
    "    System.out.println(\"/ Executed before any test\");\n",
    "  }\n",
    "    \n",
    "  @After\n",
    "  public void afterTest() {\n",
    "    System.out.println(\"\\\\ Executed after any test\");\n",
    "  }\n",
    "  \n",
    "  @Test\n",
    "  public void trueTest() {\n",
    "    assertTrue(true);\n",
    "  }\n",
    "\n",
    "  @Test\n",
    "  public void falseTest() {\n",
    "    assertFalse(false);\n",
    "  }\n",
    "\n",
    "  @Test\n",
    "  public void nullTest() {\n",
    "    Object obj = null;\n",
    "    assertNull(obj);\n",
    "  }\n",
    "\n",
    "  @Test\n",
    "  public void sameTest() {\n",
    "    Integer a = 6;\n",
    "    Object b = a;\n",
    "    assertSame(a,b);\n",
    "  }\n",
    "}"
   ]
  },
  {
   "cell_type": "code",
   "execution_count": 69,
   "metadata": {},
   "outputs": [
    {
     "name": "stdout",
     "output_type": "stream",
     "text": [
      "./ Executed before any test\n",
      "\\ Executed after any test\n",
      "./ Executed before any test\n",
      "\\ Executed after any test\n",
      "./ Executed before any test\n",
      "\\ Executed after any test\n",
      "./ Executed before any test\n",
      "\\ Executed after any test\n",
      "\n",
      "Time: 0.007\n",
      "\n",
      "OK (4 tests)\n",
      "\n"
     ]
    },
    {
     "data": {
      "text/plain": [
       "org.junit.runner.Result@cab26bf"
      ]
     },
     "execution_count": 69,
     "metadata": {},
     "output_type": "execute_result"
    }
   ],
   "source": [
    "import org.junit.runner.JUnitCore;\n",
    "import org.junit.internal.TextListener;\n",
    "\n",
    "JUnitCore junit = new JUnitCore();\n",
    "junit.addListener(new TextListener(System.out));\n",
    "junit.run(AssertionTest.class);"
   ]
  }
 ],
 "metadata": {
  "kernelspec": {
   "display_name": "Java11",
   "language": "java",
   "name": "java"
  },
  "language_info": {
   "codemirror_mode": "text/x-java",
   "file_extension": ".java",
   "mimetype": "",
   "name": "Java",
   "nbconverter_exporter": "",
   "version": "11.0.9.1"
  },
  "toc": {
   "base_numbering": 1,
   "nav_menu": {},
   "number_sections": true,
   "sideBar": true,
   "skip_h1_title": true,
   "title_cell": "Table of Contents",
   "title_sidebar": "Contents",
   "toc_cell": false,
   "toc_position": {
    "height": "calc(100% - 180px)",
    "left": "10px",
    "top": "150px",
    "width": "214.667px"
   },
   "toc_section_display": true,
   "toc_window_display": false
  }
 },
 "nbformat": 4,
 "nbformat_minor": 2
}
